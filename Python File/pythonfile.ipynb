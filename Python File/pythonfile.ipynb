{
 "cells": [
  {
   "cell_type": "markdown",
   "id": "865aea9d-7300-44d8-a128-cb02eb04a08e",
   "metadata": {},
   "source": [
    "<h1>Performance Analysis and Player Evaluation in Professional Football using Pyspark </h1>"
   ]
  },
  {
   "cell_type": "code",
   "execution_count": 1,
   "id": "2a5068ed-90b7-4948-87b1-eda1bae5e475",
   "metadata": {},
   "outputs": [],
   "source": [
    "import pandas as pd \n",
    "from pyspark.sql import SparkSession\n",
    "from pyspark.sql.functions import mean,col, count, when,sum,avg,stddev, max, min"
   ]
  },
  {
   "cell_type": "code",
   "execution_count": 2,
   "id": "e9824a63-a98e-4660-8bbc-89ba354a07c7",
   "metadata": {},
   "outputs": [],
   "source": [
    "spark = SparkSession.builder.appName(\"FootballAnalytics\").getOrCreate()"
   ]
  },
  {
   "cell_type": "code",
   "execution_count": 3,
   "id": "4f5103e9-3bf4-4f19-851c-6bbd1b4ec265",
   "metadata": {},
   "outputs": [],
   "source": [
    "df = spark.read.csv(r\"C:\\Users\\ayv44\\OneDrive\\Desktop\\jupyter notebook\\dataset\\dataset.csv\", header=True, inferSchema=True)"
   ]
  },
  {
   "cell_type": "code",
   "execution_count": 102,
   "id": "f9b7c957-46aa-4898-b39b-1ac40c5e9700",
   "metadata": {},
   "outputs": [
    {
     "name": "stdout",
     "output_type": "stream",
     "text": [
      "root\n",
      " |-- Name: string (nullable = true)\n",
      " |-- Jersey Number: integer (nullable = true)\n",
      " |-- Club: string (nullable = true)\n",
      " |-- Position: string (nullable = false)\n",
      " |-- Nationality: string (nullable = false)\n",
      " |-- Age: integer (nullable = true)\n",
      " |-- Appearances: integer (nullable = true)\n",
      " |-- Wins: integer (nullable = true)\n",
      " |-- Losses: integer (nullable = true)\n",
      " |-- Goals: integer (nullable = true)\n",
      " |-- Goals per match: double (nullable = true)\n",
      " |-- Headed goals: integer (nullable = true)\n",
      " |-- Goals with right foot: integer (nullable = true)\n",
      " |-- Goals with left foot: integer (nullable = true)\n",
      " |-- Penalties scored: integer (nullable = true)\n",
      " |-- Freekicks scored: integer (nullable = true)\n",
      " |-- Shots: integer (nullable = true)\n",
      " |-- Shots on target: integer (nullable = true)\n",
      " |-- Shooting accuracy %: string (nullable = true)\n",
      " |-- Hit woodwork: integer (nullable = true)\n",
      " |-- Big chances missed: integer (nullable = true)\n",
      " |-- Clean sheets: integer (nullable = true)\n",
      " |-- Goals conceded: integer (nullable = true)\n",
      " |-- Tackles: integer (nullable = true)\n",
      " |-- Tackle success %: string (nullable = true)\n",
      " |-- Last man tackles: integer (nullable = true)\n",
      " |-- Blocked shots: integer (nullable = true)\n",
      " |-- Interceptions: integer (nullable = true)\n",
      " |-- Clearances: integer (nullable = true)\n",
      " |-- Headed Clearance: integer (nullable = true)\n",
      " |-- Clearances off line: integer (nullable = true)\n",
      " |-- Recoveries: integer (nullable = true)\n",
      " |-- Duels won: integer (nullable = true)\n",
      " |-- Duels lost: integer (nullable = true)\n",
      " |-- Successful 50/50s: integer (nullable = true)\n",
      " |-- Aerial battles won: integer (nullable = true)\n",
      " |-- Aerial battles lost: integer (nullable = true)\n",
      " |-- Own goals: integer (nullable = true)\n",
      " |-- Errors leading to goal: integer (nullable = true)\n",
      " |-- Assists: integer (nullable = true)\n",
      " |-- Passes: integer (nullable = true)\n",
      " |-- Passes per match: double (nullable = true)\n",
      " |-- Big chances created: integer (nullable = true)\n",
      " |-- Crosses: integer (nullable = true)\n",
      " |-- Cross accuracy %: string (nullable = true)\n",
      " |-- Through balls: integer (nullable = true)\n",
      " |-- Accurate long balls: integer (nullable = true)\n",
      " |-- Saves: integer (nullable = true)\n",
      " |-- Penalties saved: integer (nullable = true)\n",
      " |-- Punches: integer (nullable = true)\n",
      " |-- High Claims: integer (nullable = true)\n",
      " |-- Catches: integer (nullable = true)\n",
      " |-- Sweeper clearances: integer (nullable = true)\n",
      " |-- Throw outs: integer (nullable = true)\n",
      " |-- Goal Kicks: integer (nullable = true)\n",
      " |-- Yellow cards: integer (nullable = true)\n",
      " |-- Red cards: integer (nullable = true)\n",
      " |-- Fouls: integer (nullable = true)\n",
      " |-- Offsides: integer (nullable = true)\n",
      "\n"
     ]
    }
   ],
   "source": [
    "df.printSchema()\n",
    "#df.summary().show()"
   ]
  },
  {
   "cell_type": "code",
   "execution_count": 5,
   "id": "00c8997d-9015-46ab-9dbf-eb9a110bfdfd",
   "metadata": {},
   "outputs": [],
   "source": [
    "numeric_columns = ['Age', 'Appearances', 'Goals', 'Assists']\n",
    "mean_values = {col: df.select(mean(df[col])).collect()[0][0] for col in numeric_columns}"
   ]
  },
  {
   "cell_type": "code",
   "execution_count": 6,
   "id": "c0f7e171-cbc8-43a1-a8a8-22e3bf76be43",
   "metadata": {},
   "outputs": [
    {
     "name": "stdout",
     "output_type": "stream",
     "text": [
      "{'Age': 25.789473684210527, 'Appearances': 68.8231173380035, 'Goals': 7.327495621716287, 'Assists': 5.285464098073555}\n"
     ]
    }
   ],
   "source": [
    "print(mean_values)"
   ]
  },
  {
   "cell_type": "code",
   "execution_count": 7,
   "id": "7e500c0c-0a8c-4256-b8f2-d4400fcfe334",
   "metadata": {},
   "outputs": [],
   "source": [
    "df = df.na.fill(mean_values)"
   ]
  },
  {
   "cell_type": "code",
   "execution_count": 103,
   "id": "50d7a592-32fc-440c-be55-c504560322f9",
   "metadata": {},
   "outputs": [],
   "source": [
    "#df.show()"
   ]
  },
  {
   "cell_type": "code",
   "execution_count": 9,
   "id": "42e25b9f-ae52-42bf-8571-a6af61314027",
   "metadata": {},
   "outputs": [],
   "source": [
    "common_position = df.groupBy('Position').count().orderBy('count', ascending=False).first()['Position']\n",
    "common_nationality = df.groupBy('Nationality').count().orderBy('count', ascending=False).first()['Nationality']\n",
    "\n",
    "df = df.na.fill({\n",
    "    'Position': common_position,\n",
    "    'Nationality': common_nationality\n",
    "})"
   ]
  },
  {
   "cell_type": "code",
   "execution_count": 10,
   "id": "0661444d-32bd-4040-9dcd-0179afe5caf6",
   "metadata": {},
   "outputs": [
    {
     "name": "stdout",
     "output_type": "stream",
     "text": [
      "Count of NULLs in Position: 0\n",
      "Count of NULLs in Nationality: 0\n"
     ]
    }
   ],
   "source": [
    "print(\"Count of NULLs in Position:\", df.filter(df['Position'].isNull()).count())\n",
    "print(\"Count of NULLs in Nationality:\", df.filter(df['Nationality'].isNull()).count())\n",
    "# No NULL values -> filling was successful."
   ]
  },
  {
   "cell_type": "code",
   "execution_count": 11,
   "id": "a66b298a-b87f-46ab-bcd8-c512a6340155",
   "metadata": {},
   "outputs": [
    {
     "name": "stdout",
     "output_type": "stream",
     "text": [
      "Checking for unusual values in Age:\n",
      "+-------+------------------+\n",
      "|summary|               Age|\n",
      "+-------+------------------+\n",
      "|  count|               571|\n",
      "|   mean|25.788091068301227|\n",
      "| stddev| 4.373636934382791|\n",
      "|    min|                17|\n",
      "|    max|                38|\n",
      "+-------+------------------+\n",
      "\n",
      "Checking for unusual values in Appearances:\n",
      "+-------+-----------------+\n",
      "|summary|      Appearances|\n",
      "+-------+-----------------+\n",
      "|  count|              571|\n",
      "|   mean| 68.8231173380035|\n",
      "| stddev|81.79751567079694|\n",
      "|    min|                0|\n",
      "|    max|              539|\n",
      "+-------+-----------------+\n",
      "\n",
      "Data types after filling missing values:\n",
      "root\n",
      " |-- Name: string (nullable = true)\n",
      " |-- Jersey Number: integer (nullable = true)\n",
      " |-- Club: string (nullable = true)\n",
      " |-- Position: string (nullable = false)\n",
      " |-- Nationality: string (nullable = false)\n",
      " |-- Age: integer (nullable = true)\n",
      " |-- Appearances: integer (nullable = true)\n",
      " |-- Wins: integer (nullable = true)\n",
      " |-- Losses: integer (nullable = true)\n",
      " |-- Goals: integer (nullable = true)\n",
      " |-- Goals per match: double (nullable = true)\n",
      " |-- Headed goals: integer (nullable = true)\n",
      " |-- Goals with right foot: integer (nullable = true)\n",
      " |-- Goals with left foot: integer (nullable = true)\n",
      " |-- Penalties scored: integer (nullable = true)\n",
      " |-- Freekicks scored: integer (nullable = true)\n",
      " |-- Shots: integer (nullable = true)\n",
      " |-- Shots on target: integer (nullable = true)\n",
      " |-- Shooting accuracy %: string (nullable = true)\n",
      " |-- Hit woodwork: integer (nullable = true)\n",
      " |-- Big chances missed: integer (nullable = true)\n",
      " |-- Clean sheets: integer (nullable = true)\n",
      " |-- Goals conceded: integer (nullable = true)\n",
      " |-- Tackles: integer (nullable = true)\n",
      " |-- Tackle success %: string (nullable = true)\n",
      " |-- Last man tackles: integer (nullable = true)\n",
      " |-- Blocked shots: integer (nullable = true)\n",
      " |-- Interceptions: integer (nullable = true)\n",
      " |-- Clearances: integer (nullable = true)\n",
      " |-- Headed Clearance: integer (nullable = true)\n",
      " |-- Clearances off line: integer (nullable = true)\n",
      " |-- Recoveries: integer (nullable = true)\n",
      " |-- Duels won: integer (nullable = true)\n",
      " |-- Duels lost: integer (nullable = true)\n",
      " |-- Successful 50/50s: integer (nullable = true)\n",
      " |-- Aerial battles won: integer (nullable = true)\n",
      " |-- Aerial battles lost: integer (nullable = true)\n",
      " |-- Own goals: integer (nullable = true)\n",
      " |-- Errors leading to goal: integer (nullable = true)\n",
      " |-- Assists: integer (nullable = true)\n",
      " |-- Passes: integer (nullable = true)\n",
      " |-- Passes per match: double (nullable = true)\n",
      " |-- Big chances created: integer (nullable = true)\n",
      " |-- Crosses: integer (nullable = true)\n",
      " |-- Cross accuracy %: string (nullable = true)\n",
      " |-- Through balls: integer (nullable = true)\n",
      " |-- Accurate long balls: integer (nullable = true)\n",
      " |-- Saves: integer (nullable = true)\n",
      " |-- Penalties saved: integer (nullable = true)\n",
      " |-- Punches: integer (nullable = true)\n",
      " |-- High Claims: integer (nullable = true)\n",
      " |-- Catches: integer (nullable = true)\n",
      " |-- Sweeper clearances: integer (nullable = true)\n",
      " |-- Throw outs: integer (nullable = true)\n",
      " |-- Goal Kicks: integer (nullable = true)\n",
      " |-- Yellow cards: integer (nullable = true)\n",
      " |-- Red cards: integer (nullable = true)\n",
      " |-- Fouls: integer (nullable = true)\n",
      " |-- Offsides: integer (nullable = true)\n",
      "\n"
     ]
    }
   ],
   "source": [
    "print(\"Checking for unusual values in Age:\")\n",
    "df.select('Age').describe().show()\n",
    "\n",
    "print(\"Checking for unusual values in Appearances:\")\n",
    "df.select('Appearances').describe().show()\n",
    "\n",
    "print(\"Data types after filling missing values:\")\n",
    "df.printSchema()\n"
   ]
  },
  {
   "cell_type": "code",
   "execution_count": 104,
   "id": "7587222a-02f1-45d9-9932-e31065793818",
   "metadata": {},
   "outputs": [],
   "source": [
    "#print(\"Summary statistics:\")\n",
    "#df.summary().show()"
   ]
  },
  {
   "cell_type": "code",
   "execution_count": 13,
   "id": "01992129-2daf-4a91-aa41-82728a5c0d72",
   "metadata": {},
   "outputs": [
    {
     "name": "stdout",
     "output_type": "stream",
     "text": [
      "Value counts for Position column:\n",
      "+----------+-----+\n",
      "|  Position|count|\n",
      "+----------+-----+\n",
      "|  Defender|  194|\n",
      "|Goalkeeper|   69|\n",
      "|   Forward|  110|\n",
      "|Midfielder|  198|\n",
      "+----------+-----+\n",
      "\n"
     ]
    }
   ],
   "source": [
    "print(\"Value counts for Position column:\")\n",
    "df.groupBy('Position').count().show()"
   ]
  },
  {
   "cell_type": "code",
   "execution_count": 14,
   "id": "d613b363-763f-4217-a211-1fdc3b0c0085",
   "metadata": {},
   "outputs": [
    {
     "name": "stdout",
     "output_type": "stream",
     "text": [
      "Value counts for Nationality column:\n",
      "+--------------------+-----+\n",
      "|         Nationality|count|\n",
      "+--------------------+-----+\n",
      "|            Paraguay|    2|\n",
      "|             Senegal|    3|\n",
      "|              Sweden|    4|\n",
      "|              Turkey|    3|\n",
      "|             Germany|   12|\n",
      "|              France|   30|\n",
      "|              Greece|    2|\n",
      "|             Algeria|    3|\n",
      "|            Slovakia|    2|\n",
      "|Saint Kitts And N...|    1|\n",
      "|           Argentina|   13|\n",
      "|               Wales|   13|\n",
      "|             Belgium|   13|\n",
      "|             Ecuador|    1|\n",
      "|               Ghana|    5|\n",
      "|       United States|    6|\n",
      "|             Croatia|    3|\n",
      "|             Nigeria|    6|\n",
      "|               Gabon|    2|\n",
      "|               Italy|    5|\n",
      "+--------------------+-----+\n",
      "only showing top 20 rows\n",
      "\n"
     ]
    }
   ],
   "source": [
    "print(\"Value counts for Nationality column:\")\n",
    "df.groupBy('Nationality').count().show()"
   ]
  },
  {
   "cell_type": "code",
   "execution_count": 105,
   "id": "5664be12-17bf-4840-94d3-2712fc91186e",
   "metadata": {},
   "outputs": [],
   "source": [
    "#df.show()"
   ]
  },
  {
   "cell_type": "markdown",
   "id": "424ef244-6da0-4e27-82db-c685fa94c694",
   "metadata": {},
   "source": [
    "<h1>ANALYSIS START</h1>"
   ]
  },
  {
   "cell_type": "code",
   "execution_count": 16,
   "id": "4609e8b5-a888-42de-995f-0120a2137066",
   "metadata": {},
   "outputs": [],
   "source": [
    "player_performance_agg = df.groupBy(\"Name\", \"Club\", \"Position\").agg(\n",
    "    sum(\"Goals\").alias(\"Total Goals\"),\n",
    "    sum(\"Assists\").alias(\"Total Assists\"),\n",
    "    sum(\"Wins\").alias(\"Total Wins\"),\n",
    "    sum(\"Losses\").alias(\"Total Losses\"),\n",
    "    avg(\"Goals\").alias(\"Average Goals\"),\n",
    "    avg(\"Assists\").alias(\"Average Assists\"),\n",
    "    avg(\"Wins\").alias(\"Average Wins\"),\n",
    "    avg(\"Losses\").alias(\"Average Losses\")\n",
    ")"
   ]
  },
  {
   "cell_type": "code",
   "execution_count": 17,
   "id": "5367da28-5c39-4bae-9930-06c5f9e9eb01",
   "metadata": {},
   "outputs": [
    {
     "name": "stdout",
     "output_type": "stream",
     "text": [
      "+-------------------+------------------------+----------+-----------+-------------+----------+------------+-------------+---------------+------------+--------------+\n",
      "|Name               |Club                    |Position  |Total Goals|Total Assists|Total Wins|Total Losses|Average Goals|Average Assists|Average Wins|Average Losses|\n",
      "+-------------------+------------------------+----------+-----------+-------------+----------+------------+-------------+---------------+------------+--------------+\n",
      "|Ahmed El Mohamady  |Aston-Villa             |Defender  |6          |13           |48        |91          |6.0          |13.0           |48.0        |91.0          |\n",
      "|Jimmy Dunne        |Burnley                 |Defender  |1          |0            |0         |1           |1.0          |0.0            |0.0         |1.0           |\n",
      "|Nampalys Mendy     |Leicester-City          |Midfielder|0          |0            |20        |16          |0.0          |0.0            |20.0        |16.0          |\n",
      "|Benjamin Mendy     |Manchester-City         |Defender  |0          |8            |29        |3           |0.0          |8.0            |29.0        |3.0           |\n",
      "|Harry Lewis        |Southampton             |Goalkeeper|0          |0            |0         |0           |0.0          |0.0            |0.0         |0.0           |\n",
      "|Sofiane Boufal     |Southampton             |Midfielder|3          |4            |12        |35          |3.0          |4.0            |12.0        |35.0          |\n",
      "|Lee Peltier        |West-Bromwich-Albion    |Defender  |0          |0            |7         |12          |0.0          |0.0            |7.0         |12.0          |\n",
      "|Wes Foderingham    |Sheffield-United        |Goalkeeper|0          |0            |0         |0           |0.0          |0.0            |0.0         |0.0           |\n",
      "|Lys Mousset        |Sheffield-United        |Forward   |9          |4            |31        |38          |9.0          |4.0            |31.0        |38.0          |\n",
      "|Marçal             |Wolverhampton-Wanderers |Defender  |0          |0            |1         |1           |0.0          |0.0            |1.0         |1.0           |\n",
      "|Alex Cochrane      |Brighton-and-Hove-Albion|Defender  |0          |0            |0         |0           |0.0          |0.0            |0.0         |0.0           |\n",
      "|Denis Odoi         |Fulham                  |Defender  |0          |1            |7         |21          |0.0          |1.0            |7.0         |21.0          |\n",
      "|Eric García        |Manchester-City         |Defender  |0          |0            |11        |2           |0.0          |0.0            |11.0        |2.0           |\n",
      "|David Luiz         |Arsenal                 |Defender  |13         |7            |113       |38          |13.0         |7.0            |113.0       |38.0          |\n",
      "|Oleksandr Zinchenko|Manchester-City         |Defender  |0          |3            |34        |6           |0.0          |3.0            |34.0        |6.0           |\n",
      "|George Baldock     |Sheffield-United        |Defender  |2          |3            |14        |14          |2.0          |3.0            |14.0        |14.0          |\n",
      "|Max Meyer          |Crystal-Palace          |Midfielder|1          |2            |11        |24          |1.0          |2.0            |11.0        |24.0          |\n",
      "|Ola Aina           |Fulham                  |Defender  |0          |0            |3         |0           |0.0          |0.0            |3.0         |0.0           |\n",
      "|Donny van de Beek  |Manchester-United       |Midfielder|1          |0            |0         |1           |1.0          |0.0            |0.0         |1.0           |\n",
      "|Alfie Whiteman     |Tottenham-Hotspur       |Goalkeeper|0          |0            |0         |0           |0.0          |0.0            |0.0         |0.0           |\n",
      "+-------------------+------------------------+----------+-----------+-------------+----------+------------+-------------+---------------+------------+--------------+\n",
      "only showing top 20 rows\n",
      "\n"
     ]
    }
   ],
   "source": [
    "player_performance_agg.show(truncate=False)"
   ]
  },
  {
   "cell_type": "markdown",
   "id": "03d0aedb-e3a1-4989-bbaf-31e914967d20",
   "metadata": {},
   "source": [
    "Aggregated Data: The data is grouped by player name, club, and position, showing total and average performance metrics.\n",
    "\n",
    "Metrics Included: Goals, assists, wins, and losses are included, providing a comprehensive view of each player's contribution to their team."
   ]
  },
  {
   "cell_type": "markdown",
   "id": "3e6ebe77-ad34-4db0-8b52-3a79260c2af2",
   "metadata": {},
   "source": [
    "<h2>PLAYER PERFORMANCE ANALYSIS</h2>"
   ]
  },
  {
   "cell_type": "code",
   "execution_count": 18,
   "id": "52ece2b2-d981-4c57-b50b-93965cdf48f1",
   "metadata": {},
   "outputs": [
    {
     "name": "stdout",
     "output_type": "stream",
     "text": [
      "+-----------------+------------------+---------------+---------------+------------------+--------------------+-----------------+-----------------+-----------------+-----------------+--------------+--------------+------------------+-------------------+----------------+----------------+\n",
      "|Mean Total Goals |Stddev Total Goals|Max Total Goals|Min Total Goals|Mean Total Assists|Stddev Total Assists|Max Total Assists|Min Total Assists|Mean Total Wins  |Stddev Total Wins|Max Total Wins|Min Total Wins|Mean Total Losses |Stddev Total Losses|Max Total Losses|Min Total Losses|\n",
      "+-----------------+------------------+---------------+---------------+------------------+--------------------+-----------------+-----------------+-----------------+-----------------+--------------+--------------+------------------+-------------------+----------------+----------------+\n",
      "|7.327495621716287|16.810489536415297|180            |0              |5.285464098073555 |9.761764773582767   |84               |0                |28.95796847635727|38.96937599371277|272           |0             |23.896672504378284|28.488375705046018 |158             |0               |\n",
      "+-----------------+------------------+---------------+---------------+------------------+--------------------+-----------------+-----------------+-----------------+-----------------+--------------+--------------+------------------+-------------------+----------------+----------------+\n",
      "\n"
     ]
    }
   ],
   "source": [
    "stats = player_performance_agg.select(\n",
    "    mean('Total Goals').alias('Mean Total Goals'),\n",
    "    stddev('Total Goals').alias('Stddev Total Goals'),\n",
    "    max('Total Goals').alias('Max Total Goals'),\n",
    "    min('Total Goals').alias('Min Total Goals'),\n",
    "    mean('Total Assists').alias('Mean Total Assists'),\n",
    "    stddev('Total Assists').alias('Stddev Total Assists'),\n",
    "    max('Total Assists').alias('Max Total Assists'),\n",
    "    min('Total Assists').alias('Min Total Assists'),\n",
    "    mean('Total Wins').alias('Mean Total Wins'),\n",
    "    stddev('Total Wins').alias('Stddev Total Wins'),\n",
    "    max('Total Wins').alias('Max Total Wins'),\n",
    "    min('Total Wins').alias('Min Total Wins'),\n",
    "    mean('Total Losses').alias('Mean Total Losses'),\n",
    "    stddev('Total Losses').alias('Stddev Total Losses'),\n",
    "    max('Total Losses').alias('Max Total Losses'),\n",
    "    min('Total Losses').alias('Min Total Losses')\n",
    ")\n",
    "\n",
    "stats.show(truncate=False)\n"
   ]
  },
  {
   "cell_type": "markdown",
   "id": "1a4e6dd5-ec80-4a8c-af3d-f52655a923e6",
   "metadata": {},
   "source": [
    "<h3>Total Goals:</h3>\n",
    "Average no of goals scored by players is approximately 7.33.\n",
    "\n",
    "Standard Deviation: 16.81. Indicates that there is considerable diversity in goal-scoring performance across players.\n",
    "\n",
    "Max and Min: The maximum number of goals scored by a player is 180, while the minimum is 0.\n",
    "\n",
    "<h3>Total Assists:</h3> \n",
    "The average no of assists provided by players is around 5.29.\n",
    "\n",
    "Standard Deviation: 9.76.\n",
    "\n",
    "Max and Min: The maximum number of assists by a player is 84, while the minimum is 0.\n",
    "\n",
    "<h3>Total Wins:</h3>\n",
    "On average, players are associated with around 29 total wins.            \n",
    "\n",
    "Standard Deviation:38.97, indicates variability in the no of wins among players.\n",
    "\n",
    "Max and Min: The maximum number of wins attributed to a player is 272, while the minimum is 0.\n",
    "\n",
    "<h3>Total Losses:</h3>\n",
    "\n",
    "Players have an average of approximately 23.90 total losses.\n",
    "\n",
    "Standard Deviation: 28.49\n",
    "\n",
    "Max and Min: The maximum number of losses is 158, and the minimum is 0."
   ]
  },
  {
   "cell_type": "code",
   "execution_count": 19,
   "id": "993225a3-f556-49e6-8fcc-a78f4cb4a0ea",
   "metadata": {},
   "outputs": [],
   "source": [
    "top_performers = player_performance_agg.orderBy('Total Goals', ascending=False).limit(10)\n",
    "underperformers = player_performance_agg.orderBy('Total Goals').limit(10)"
   ]
  },
  {
   "cell_type": "code",
   "execution_count": 20,
   "id": "3a19b5be-a2b1-421c-983e-a5aa7e6e8906",
   "metadata": {},
   "outputs": [
    {
     "name": "stdout",
     "output_type": "stream",
     "text": [
      "Top Performers based on Total Goals:\n",
      "+-----------------+-----------------+----------+-----------+-------------+----------+------------+-------------+---------------+------------+--------------+\n",
      "|Name             |Club             |Position  |Total Goals|Total Assists|Total Wins|Total Losses|Average Goals|Average Assists|Average Wins|Average Losses|\n",
      "+-----------------+-----------------+----------+-----------+-------------+----------+------------+-------------+---------------+------------+--------------+\n",
      "|Sergio Agüero    |Manchester-City  |Forward   |180        |46           |177       |44          |180.0        |46.0           |177.0       |44.0          |\n",
      "|Harry Kane       |Tottenham-Hotspur|Forward   |144        |24           |120       |48          |144.0        |24.0           |120.0       |48.0          |\n",
      "|Jamie Vardy      |Leicester-City   |Forward   |105        |29           |86        |77          |105.0        |29.0           |86.0        |77.0          |\n",
      "|Olivier Giroud   |Chelsea          |Forward   |86         |28           |133       |56          |86.0         |28.0           |133.0       |56.0          |\n",
      "|Sadio Mané       |Liverpool        |Forward   |86         |29           |121       |35          |86.0         |29.0           |121.0       |35.0          |\n",
      "|Raheem Sterling  |Manchester-City  |Forward   |86         |45           |161       |55          |86.0         |45.0           |161.0       |55.0          |\n",
      "|Mohamed Salah    |Liverpool        |Forward   |78         |29           |90        |12          |78.0         |29.0           |90.0        |12.0          |\n",
      "|Theo Walcott     |Everton          |Forward   |75         |51           |176       |93          |75.0         |51.0           |176.0       |93.0          |\n",
      "|Christian Benteke|Crystal-Palace   |Forward   |72         |20           |73        |107         |72.0         |20.0           |73.0        |107.0         |\n",
      "|Gylfi Sigurdsson |Everton          |Midfielder|61         |45           |114       |110         |61.0         |45.0           |114.0       |110.0         |\n",
      "+-----------------+-----------------+----------+-----------+-------------+----------+------------+-------------+---------------+------------+--------------+\n",
      "\n",
      "Underperformers based on Total Goals:\n",
      "+-------------------+------------------------+----------+-----------+-------------+----------+------------+-------------+---------------+------------+--------------+\n",
      "|Name               |Club                    |Position  |Total Goals|Total Assists|Total Wins|Total Losses|Average Goals|Average Assists|Average Wins|Average Losses|\n",
      "+-------------------+------------------------+----------+-----------+-------------+----------+------------+-------------+---------------+------------+--------------+\n",
      "|Alex Cochrane      |Brighton-and-Hove-Albion|Defender  |0          |0            |0         |0           |0.0          |0.0            |0.0         |0.0           |\n",
      "|Matteo Guendouzi   |Arsenal                 |Midfielder|0          |1            |24        |17          |0.0          |1.0            |24.0        |17.0          |\n",
      "|Denis Odoi         |Fulham                  |Defender  |0          |1            |7         |21          |0.0          |1.0            |7.0         |21.0          |\n",
      "|Nampalys Mendy     |Leicester-City          |Midfielder|0          |0            |20        |16          |0.0          |0.0            |20.0        |16.0          |\n",
      "|Alfie Whiteman     |Tottenham-Hotspur       |Goalkeeper|0          |0            |0         |0           |0.0          |0.0            |0.0         |0.0           |\n",
      "|Eric García        |Manchester-City         |Defender  |0          |0            |11        |2           |0.0          |0.0            |11.0        |2.0           |\n",
      "|Harry Lewis        |Southampton             |Goalkeeper|0          |0            |0         |0           |0.0          |0.0            |0.0         |0.0           |\n",
      "|Oleksandr Zinchenko|Manchester-City         |Defender  |0          |3            |34        |6           |0.0          |3.0            |34.0        |6.0           |\n",
      "|Wes Foderingham    |Sheffield-United        |Goalkeeper|0          |0            |0         |0           |0.0          |0.0            |0.0         |0.0           |\n",
      "|Ola Aina           |Fulham                  |Defender  |0          |0            |3         |0           |0.0          |0.0            |3.0         |0.0           |\n",
      "+-------------------+------------------------+----------+-----------+-------------+----------+------------+-------------+---------------+------------+--------------+\n",
      "\n"
     ]
    }
   ],
   "source": [
    "print(\"Top Performers based on Total Goals:\")\n",
    "top_performers.show(truncate=False)\n",
    "\n",
    "print(\"Underperformers based on Total Goals:\")\n",
    "underperformers.show(truncate=False)"
   ]
  },
  {
   "cell_type": "code",
   "execution_count": 21,
   "id": "461abbfb-fcdf-457c-a179-4149875797d7",
   "metadata": {},
   "outputs": [
    {
     "name": "stdout",
     "output_type": "stream",
     "text": [
      "Correlation between Total Goals and Total Assists: 0.7219239431219518\n"
     ]
    }
   ],
   "source": [
    "correlation_data = player_performance_agg.stat.corr('Total Goals', 'Total Assists')\n",
    "print(f\"Correlation between Total Goals and Total Assists: {correlation_data}\")"
   ]
  },
  {
   "cell_type": "code",
   "execution_count": 106,
   "id": "79e3a329-2f3c-41b0-9f30-210140109a45",
   "metadata": {},
   "outputs": [],
   "source": [
    "defenders_metrics = df.filter(col('Position') == 'Defender').groupBy('Name', 'Club').agg(\n",
    "    sum('Clean sheets').alias('Total Clean Sheets'),\n",
    "    sum('Tackles').alias('Total Tackles'),\n",
    "    sum('Interceptions').alias('Total Interceptions'),\n",
    "    avg('Clean sheets').alias('Average Clean Sheets'),\n",
    "    avg('Tackles').alias('Average Tackles'),\n",
    "    avg('Interceptions').alias('Average Interceptions')\n",
    ")\n",
    "\n",
    "\n",
    "goalkeepers_metrics = df.filter(col('Position') == 'Goalkeeper').groupBy('Name', 'Club').agg(\n",
    "    sum('Saves').alias('Total Saves'),\n",
    "    sum('Clean sheets').alias('Total Clean Sheets'),\n",
    "    sum('Goals conceded').alias('Total Goals Conceded'),\n",
    "    avg('Saves').alias('Average Saves'),\n",
    "    avg('Clean sheets').alias('Average Clean Sheets'),\n",
    "    avg('Goals conceded').alias('Average Goals Conceded')\n",
    ")\n",
    "\n",
    "offensive_metrics = df.filter(col('Position').isin(['Midfielder', 'Forward'])).groupBy('Name', 'Club').agg(\n",
    "    sum('Goals').alias('Total Goals'),\n",
    "    sum('Assists').alias('Total Assists'),\n",
    "    sum('Passes').alias('Total Passes Completed'),\n",
    "    sum('Duels won').alias('Total Duels Won'),\n",
    "    avg('Goals').alias('Average Goals'),\n",
    "    avg('Assists').alias('Average Assists'),\n",
    "    avg('Passes').alias('Average Passes Completed'),\n",
    "    avg('Duels won').alias('Average Duels Won')\n",
    ")\n",
    "\n",
    "\n",
    "\n"
   ]
  },
  {
   "cell_type": "code",
   "execution_count": 107,
   "id": "170acc9d-4a6e-4333-b029-d8513cfe9e92",
   "metadata": {},
   "outputs": [
    {
     "name": "stdout",
     "output_type": "stream",
     "text": [
      "+------------------------+------------------------+------------------+-------------+-------------------+--------------------+---------------+---------------------+\n",
      "|Name                    |Club                    |Total Clean Sheets|Total Tackles|Total Interceptions|Average Clean Sheets|Average Tackles|Average Interceptions|\n",
      "+------------------------+------------------------+------------------+-------------+-------------------+--------------------+---------------+---------------------+\n",
      "|Emerson                 |Chelsea                 |4                 |43           |28                 |4.0                 |43.0           |28.0                 |\n",
      "|Jannik Vestergaard      |Southampton             |8                 |74           |62                 |8.0                 |74.0           |62.0                 |\n",
      "|Frédéric Guilbert       |Aston-Villa             |2                 |74           |49                 |2.0                 |74.0           |49.0                 |\n",
      "|Jonjoe Kenny            |Everton                 |6                 |64           |46                 |6.0                 |64.0           |46.0                 |\n",
      "|Matt Targett            |Aston-Villa             |12                |122          |124                |12.0                |122.0          |124.0                |\n",
      "|Joël Veltman            |Brighton-and-Hove-Albion|0                 |0            |0                  |0.0                 |0.0            |0.0                  |\n",
      "|Wes Morgan              |Leicester-City          |41                |200          |313                |41.0                |200.0          |313.0                |\n",
      "|Harry Maguire           |Manchester-United       |32                |191          |233                |32.0                |191.0          |233.0                |\n",
      "|Martin Kelly            |Crystal-Palace          |29                |335          |153                |29.0                |335.0          |153.0                |\n",
      "|Ciaran Clark            |Newcastle-United        |29                |306          |304                |29.0                |306.0          |304.0                |\n",
      "|Anthony Driscoll-Glennon|Burnley                 |0                 |0            |0                  |0.0                 |0.0            |0.0                  |\n",
      "|Max Lowe                |Sheffield-United        |0                 |0            |0                  |0.0                 |0.0            |0.0                  |\n",
      "|Filip Benkovic          |Leicester-City          |0                 |0            |0                  |0.0                 |0.0            |0.0                  |\n",
      "|James Tarkowski         |Burnley                 |34                |202          |166                |34.0                |202.0          |166.0                |\n",
      "|Conor Townsend          |West-Bromwich-Albion    |0                 |0            |0                  |0.0                 |0.0            |0.0                  |\n",
      "|William Saliba          |Arsenal                 |0                 |0            |0                  |0.0                 |0.0            |0.0                  |\n",
      "|Ben Mee                 |Burnley                 |47                |240          |260                |47.0                |240.0          |260.0                |\n",
      "|Andreas Christensen     |Chelsea                 |12                |76           |74                 |12.0                |76.0           |74.0                 |\n",
      "|Gonçalo Cardoso         |West-Ham-United         |0                 |0            |0                  |0.0                 |0.0            |0.0                  |\n",
      "|Neil Taylor             |Aston-Villa             |38                |266          |241                |38.0                |266.0          |241.0                |\n",
      "+------------------------+------------------------+------------------+-------------+-------------------+--------------------+---------------+---------------------+\n",
      "only showing top 20 rows\n",
      "\n"
     ]
    }
   ],
   "source": [
    "defenders_metrics.show(truncate=False)"
   ]
  },
  {
   "cell_type": "code",
   "execution_count": 108,
   "id": "c94267d0-8419-47b5-a821-232c06bbdc92",
   "metadata": {},
   "outputs": [
    {
     "name": "stdout",
     "output_type": "stream",
     "text": [
      "+--------------------+------------------------+-----------+------------------+--------------------+-------------+--------------------+----------------------+\n",
      "|Name                |Club                    |Total Saves|Total Clean Sheets|Total Goals Conceded|Average Saves|Average Clean Sheets|Average Goals Conceded|\n",
      "+--------------------+------------------------+-----------+------------------+--------------------+-------------+--------------------+----------------------+\n",
      "|Sergio Romero       |Manchester-United       |20         |6                 |2                   |20.0         |6.0                 |2.0                   |\n",
      "|Joe Hart            |Tottenham-Hotspur       |941        |127               |383                 |941.0        |127.0               |383.0                 |\n",
      "|Karl Darlow         |Newcastle-United        |65         |6                 |29                  |65.0         |6.0                 |29.0                  |\n",
      "|Emiliano Martínez   |Aston-Villa             |44         |7                 |16                  |44.0         |7.0                 |16.0                  |\n",
      "|Tom Heaton          |Aston-Villa             |408        |28                |167                 |408.0        |28.0                |167.0                 |\n",
      "|Christian Walton    |Brighton-and-Hove-Albion|0          |0                 |0                   |0.0          |0.0                 |0.0                   |\n",
      "|Jonas Lössl         |Everton                 |191        |14                |112                 |191.0        |14.0                |112.0                 |\n",
      "|Ørjan Nyland        |Aston-Villa             |15         |1                 |12                  |15.0         |1.0                 |12.0                  |\n",
      "|Alfie Whiteman      |Tottenham-Hotspur       |0          |0                 |0                   |0.0          |0.0                 |0.0                   |\n",
      "|João Virgínia       |Everton                 |0          |0                 |0                   |0.0          |0.0                 |0.0                   |\n",
      "|Angus Gunn          |Southampton             |63         |5                 |43                  |63.0         |5.0                 |43.0                  |\n",
      "|Danny Ward          |Leicester-City          |9          |0                 |4                   |9.0          |0.0                 |4.0                   |\n",
      "|Dean Henderson      |Manchester-United       |97         |13                |33                  |97.0         |13.0                |33.0                  |\n",
      "|Kiko Casilla        |Leeds-United            |0          |0                 |0                   |0.0          |0.0                 |0.0                   |\n",
      "|Fabri               |Fulham                  |16         |0                 |5                   |16.0         |0.0                 |5.0                   |\n",
      "|Rúnar Alex Rúnarsson|Arsenal                 |0          |0                 |0                   |0.0          |0.0                 |0.0                   |\n",
      "|Alex McCarthy       |Southampton             |314        |17                |151                 |314.0        |17.0                |151.0                 |\n",
      "|Jed Steer           |Aston-Villa             |2          |0                 |1                   |2.0          |0.0                 |1.0                   |\n",
      "|Jason Steele        |Brighton-and-Hove-Albion|0          |0                 |0                   |0.0          |0.0                 |0.0                   |\n",
      "|Kepa Arrizabalaga   |Chelsea                 |142        |22                |89                  |142.0        |22.0                |89.0                  |\n",
      "+--------------------+------------------------+-----------+------------------+--------------------+-------------+--------------------+----------------------+\n",
      "only showing top 20 rows\n",
      "\n"
     ]
    }
   ],
   "source": [
    "goalkeepers_metrics.show(truncate=False)"
   ]
  },
  {
   "cell_type": "code",
   "execution_count": 109,
   "id": "99fe02ed-81c1-440e-8a7e-f7b89a5b3412",
   "metadata": {},
   "outputs": [
    {
     "name": "stdout",
     "output_type": "stream",
     "text": [
      "+----------------+--------------------+-----------+-------------+----------------------+---------------+-------------+---------------+------------------------+-----------------+\n",
      "|Name            |Club                |Total Goals|Total Assists|Total Passes Completed|Total Duels Won|Average Goals|Average Assists|Average Passes Completed|Average Duels Won|\n",
      "+----------------+--------------------+-----------+-------------+----------------------+---------------+-------------+---------------+------------------------+-----------------+\n",
      "|Mesut Özil      |Arsenal             |33         |54           |11186                 |625            |33.0         |54.0           |11186.0                 |625.0            |\n",
      "|N'Golo Kanté    |Chelsea             |10         |10           |8952                  |922            |10.0         |10.0           |8952.0                  |922.0            |\n",
      "|Andros Townsend |Crystal-Palace      |22         |22           |4717                  |1025           |22.0         |22.0           |4717.0                  |1025.0           |\n",
      "|Christian Atsu  |Newcastle-United    |3          |6            |1096                  |217            |3.0          |6.0            |1096.0                  |217.0            |\n",
      "|Henri Saivet    |Newcastle-United    |1          |0            |106                   |23             |1.0          |0.0            |106.0                   |23.0             |\n",
      "|Harvey White    |Tottenham-Hotspur   |0          |0            |0                     |0              |0.0          |0.0            |0.0                     |0.0              |\n",
      "|Richarlison     |Everton             |31         |10           |2452                  |NULL           |31.0         |10.0           |2452.0                  |NULL             |\n",
      "|Stuart Dallas   |Leeds-United        |0          |0            |101                   |19             |0.0          |0.0            |101.0                   |19.0             |\n",
      "|Kevin De Bruyne |Manchester-City     |37         |67           |8407                  |633            |37.0         |67.0           |8407.0                  |633.0            |\n",
      "|Jonjo Shelvey   |Newcastle-United    |20         |23           |8878                  |573            |20.0         |23.0           |8878.0                  |573.0            |\n",
      "|Daniel Barlaser |Newcastle-United    |0          |0            |0                     |0              |0.0          |0.0            |0.0                     |0.0              |\n",
      "|Emile Smith Rowe|Arsenal             |0          |0            |35                    |4              |0.0          |0.0            |35.0                    |4.0              |\n",
      "|Keinan Davis    |Aston-Villa         |0          |0            |149                   |NULL           |0.0          |0.0            |149.0                   |NULL             |\n",
      "|Oliver McBurnie |Sheffield-United    |6          |1            |785                   |NULL           |6.0          |1.0            |785.0                   |NULL             |\n",
      "|Grady Diangana  |West-Bromwich-Albion|1          |1            |298                   |72             |1.0          |1.0            |298.0                   |72.0             |\n",
      "|Reiss Nelson    |Arsenal             |1          |0            |286                   |NULL           |1.0          |0.0            |286.0                   |NULL             |\n",
      "|Sandro Ramírez  |Everton             |0          |0            |82                    |NULL           |0.0          |0.0            |82.0                    |NULL             |\n",
      "|Matty James     |Leicester-City      |0          |1            |1260                  |172            |0.0          |1.0            |1260.0                  |172.0            |\n",
      "|Stuart Armstrong|Southampton         |8          |5            |1230                  |184            |8.0          |5.0            |1230.0                  |184.0            |\n",
      "|Harry Winks     |Tottenham-Hotspur   |2          |2            |4198                  |230            |2.0          |2.0            |4198.0                  |230.0            |\n",
      "+----------------+--------------------+-----------+-------------+----------------------+---------------+-------------+---------------+------------------------+-----------------+\n",
      "only showing top 20 rows\n",
      "\n"
     ]
    }
   ],
   "source": [
    "offensive_metrics.show(truncate=False)"
   ]
  },
  {
   "cell_type": "markdown",
   "id": "bb9c0741-5289-4d52-8dce-d73a57e86a5d",
   "metadata": {},
   "source": [
    "<h2>REGRESSION ANALYSIS</h2>"
   ]
  },
  {
   "cell_type": "code",
   "execution_count": 23,
   "id": "3a70b9d6-83b5-4beb-b8c8-06811a6ab09d",
   "metadata": {},
   "outputs": [],
   "source": [
    "from pyspark.ml.feature import VectorAssembler, StringIndexer\n",
    "from pyspark.ml.regression import LinearRegression\n",
    "from pyspark.ml.evaluation import RegressionEvaluator\n",
    "from pyspark.ml import Pipeline"
   ]
  },
  {
   "cell_type": "code",
   "execution_count": 24,
   "id": "0c3980c9-12cc-4bd0-baf1-d64a94e4a5fa",
   "metadata": {},
   "outputs": [],
   "source": [
    "feature_columns = ['Age', 'Appearances']\n",
    "label_column = 'Goals'"
   ]
  },
  {
   "cell_type": "code",
   "execution_count": 25,
   "id": "49a89649-52d7-4a82-a4ed-ac9773453f13",
   "metadata": {},
   "outputs": [],
   "source": [
    "position_indexer = StringIndexer(inputCol='Position', outputCol='Position_Index')\n",
    "feature_columns.append('Position_Index')\n",
    "assembler = VectorAssembler(inputCols=feature_columns, outputCol='features')"
   ]
  },
  {
   "cell_type": "code",
   "execution_count": 26,
   "id": "28ef197c-cb44-4001-b090-05510adb23ab",
   "metadata": {},
   "outputs": [],
   "source": [
    "lr = LinearRegression(featuresCol='features', labelCol=label_column)\n",
    "pipeline = Pipeline(stages=[position_indexer, assembler, lr])\n",
    "train_data, test_data = df.randomSplit([0.8, 0.2], seed=42)"
   ]
  },
  {
   "cell_type": "code",
   "execution_count": 27,
   "id": "3af6b235-9f17-4acf-8ce4-b7717348678b",
   "metadata": {},
   "outputs": [],
   "source": [
    "model = pipeline.fit(train_data)"
   ]
  },
  {
   "cell_type": "code",
   "execution_count": 28,
   "id": "d507267c-cafd-4e65-8275-621875ff3fbb",
   "metadata": {},
   "outputs": [],
   "source": [
    "predictions = model.transform(test_data)\n",
    "evaluator = RegressionEvaluator(labelCol=label_column)\n",
    "rmse = evaluator.evaluate(predictions, {evaluator.metricName: \"rmse\"})\n",
    "r2 = evaluator.evaluate(predictions, {evaluator.metricName: \"r2\"})"
   ]
  },
  {
   "cell_type": "code",
   "execution_count": 29,
   "id": "6ce55876-63d1-4229-8fb8-88cac0500eb9",
   "metadata": {},
   "outputs": [
    {
     "name": "stdout",
     "output_type": "stream",
     "text": [
      "Root Mean Squared Error (RMSE): 10.217423439326206\n",
      "R2: 0.24572100385008921\n"
     ]
    }
   ],
   "source": [
    "print(f\"Root Mean Squared Error (RMSE): {rmse}\")\n",
    "print(f\"R2: {r2}\")"
   ]
  },
  {
   "cell_type": "markdown",
   "id": "64a8bc1b-26e9-4b4a-9c55-66f8f60a10e5",
   "metadata": {},
   "source": [
    "<h2>Extend Feature Set and Applying Feature Engineering</h2>"
   ]
  },
  {
   "cell_type": "code",
   "execution_count": 30,
   "id": "e1a71fe7-0c03-49ab-93d4-14377213071d",
   "metadata": {},
   "outputs": [],
   "source": [
    "from pyspark.ml.feature import VectorAssembler, StringIndexer, PolynomialExpansion\n",
    "from pyspark.ml.regression import RandomForestRegressor, GBTRegressor\n",
    "from pyspark.ml.tuning import CrossValidator, ParamGridBuilder\n",
    "from pyspark.ml.evaluation import RegressionEvaluator\n",
    "from pyspark.ml import Pipeline"
   ]
  },
  {
   "cell_type": "code",
   "execution_count": 31,
   "id": "c2a1d19a-2485-42db-860c-0912eb833fbe",
   "metadata": {},
   "outputs": [],
   "source": [
    "feature_columns = ['Age', 'Appearances','Goals per match' ,'Shots on Target', 'Position']\n",
    "label_column = 'Goals'\n",
    "indexer = [StringIndexer(inputCol=column, outputCol=column + \"_Index\") for column in ['Position']]"
   ]
  },
  {
   "cell_type": "code",
   "execution_count": 32,
   "id": "c5020e96-a404-4ee4-9f0a-12f19f1ed440",
   "metadata": {},
   "outputs": [],
   "source": [
    "rf = RandomForestRegressor(featuresCol=\"features\", labelCol=label_column)\n",
    "pipeline = Pipeline(stages=indexer + [assembler, rf])"
   ]
  },
  {
   "cell_type": "code",
   "execution_count": 33,
   "id": "a92524af-0ef8-4bd9-b79c-71272fb8e266",
   "metadata": {},
   "outputs": [],
   "source": [
    "paramGrid = ParamGridBuilder() \\\n",
    "    .addGrid(rf.numTrees, [10, 50, 100]) \\\n",
    "    .addGrid(rf.maxDepth, [5, 10, 20]) \\\n",
    "    .build()"
   ]
  },
  {
   "cell_type": "code",
   "execution_count": 34,
   "id": "040d4ffc-6338-4a53-8546-7ae0c7e609b9",
   "metadata": {},
   "outputs": [],
   "source": [
    "evaluator = RegressionEvaluator(labelCol=label_column, metricName=\"rmse\")"
   ]
  },
  {
   "cell_type": "code",
   "execution_count": 35,
   "id": "a3e00266-1902-422c-9100-27be687cba6c",
   "metadata": {},
   "outputs": [],
   "source": [
    "crossval = CrossValidator(estimator=pipeline,\n",
    "                          estimatorParamMaps=paramGrid,\n",
    "                          evaluator=evaluator,\n",
    "                          numFolds=5)"
   ]
  },
  {
   "cell_type": "code",
   "execution_count": 36,
   "id": "688fb7c9-9687-47d2-aee0-7bbe2293ceec",
   "metadata": {},
   "outputs": [],
   "source": [
    "train_data, test_data = df.randomSplit([0.8, 0.2], seed=42)"
   ]
  },
  {
   "cell_type": "code",
   "execution_count": 37,
   "id": "c9c1e020-a951-4244-9395-58683a8b74e8",
   "metadata": {},
   "outputs": [],
   "source": [
    "cvModel = crossval.fit(train_data)"
   ]
  },
  {
   "cell_type": "code",
   "execution_count": 38,
   "id": "205bfc01-72de-444e-89bb-21dfbea15d37",
   "metadata": {},
   "outputs": [
    {
     "name": "stdout",
     "output_type": "stream",
     "text": [
      "Root Mean Squared Error (RMSE): 7.44187194657033\n",
      "R2: 0.5998584817534303\n"
     ]
    }
   ],
   "source": [
    "predictions = cvModel.transform(test_data)\n",
    "rmse = evaluator.evaluate(predictions)\n",
    "print(f\"Root Mean Squared Error (RMSE): {rmse}\")\n",
    "\n",
    "r2_evaluator = RegressionEvaluator(labelCol=label_column, metricName=\"r2\")\n",
    "r2 = r2_evaluator.evaluate(predictions)\n",
    "print(f\"R2: {r2}\")"
   ]
  },
  {
   "cell_type": "markdown",
   "id": "27b83f54-bed7-4c31-8cfc-c6ef7af327d7",
   "metadata": {},
   "source": [
    "<h2>ANALYSIS PLAYER BASED USING ML</h2>"
   ]
  },
  {
   "cell_type": "code",
   "execution_count": 110,
   "id": "0179dfeb-b871-4bb7-bb3f-58dd1ffac4df",
   "metadata": {},
   "outputs": [],
   "source": [
    "from pyspark.sql.functions import col\n",
    "from pyspark.sql.functions import to_json\n",
    "\n",
    "predicted_df = model.transform(df)\n",
    "top_performers = predicted_df.orderBy(col('prediction').desc()).limit(10)\n",
    "bottom_performers = predicted_df.orderBy(col('prediction')).limit(10)\n"
   ]
  },
  {
   "cell_type": "code",
   "execution_count": 111,
   "id": "b4252baf-b56f-47c5-8f26-bac18bbb57dd",
   "metadata": {},
   "outputs": [
    {
     "name": "stdout",
     "output_type": "stream",
     "text": [
      "+----------------+-------------+-----------------+----------+-----------+---+-----------+----+------+-----+---------------+------------+---------------------+--------------------+----------------+----------------+-----+---------------+-------------------+------------+------------------+------------+--------------+-------+----------------+----------------+-------------+-------------+----------+----------------+-------------------+----------+---------+----------+-----------------+------------------+-------------------+---------+----------------------+-------+------+----------------+-------------------+-------+----------------+-------------+-------------------+-----+---------------+-------+-----------+-------+------------------+----------+----------+------------+---------+-----+--------+--------------+----------------+------------------+\n",
      "|            Name|Jersey Number|             Club|  Position|Nationality|Age|Appearances|Wins|Losses|Goals|Goals per match|Headed goals|Goals with right foot|Goals with left foot|Penalties scored|Freekicks scored|Shots|Shots on target|Shooting accuracy %|Hit woodwork|Big chances missed|Clean sheets|Goals conceded|Tackles|Tackle success %|Last man tackles|Blocked shots|Interceptions|Clearances|Headed Clearance|Clearances off line|Recoveries|Duels won|Duels lost|Successful 50/50s|Aerial battles won|Aerial battles lost|Own goals|Errors leading to goal|Assists|Passes|Passes per match|Big chances created|Crosses|Cross accuracy %|Through balls|Accurate long balls|Saves|Penalties saved|Punches|High Claims|Catches|Sweeper clearances|Throw outs|Goal Kicks|Yellow cards|Red cards|Fouls|Offsides|Position_Index|        features|        prediction|\n",
      "+----------------+-------------+-----------------+----------+-----------+---+-----------+----+------+-----+---------------+------------+---------------------+--------------------+----------------+----------------+-----+---------------+-------------------+------------+------------------+------------+--------------+-------+----------------+----------------+-------------+-------------+----------+----------------+-------------------+----------+---------+----------+-----------------+------------------+-------------------+---------+----------------------+-------+------+----------------+-------------------+-------+----------------+-------------+-------------------+-----+---------------+-------+-----------+-------+------------------+----------+----------+------------+---------+-----+--------+--------------+----------------+------------------+\n",
      "|    James Milner|            7|        Liverpool|Midfielder|    England| 34|        539| 272|   133|   55|            0.1|           1|                   38|                   8|              17|               4|  496|            151|                30%|           7|                14|        NULL|          NULL|    803|             77%|            NULL|          174|          437|       423|             126|               NULL|      1751|     1843|      2223|              310|               337|                514|     NULL|                     2|     84| 16171|            30.0|                 46|   2247|             23%|          110|                882| NULL|           NULL|   NULL|       NULL|   NULL|              NULL|      NULL|      NULL|          65|        3|  438|      45|           0.0|[34.0,539.0,0.0]| 68.21948680550186|\n",
      "|     Gary Cahill|           24|   Crystal-Palace|  Defender|    England| 34|        374| 166|   126|   27|           NULL|           9|                   13|                   4|            NULL|            NULL| NULL|           NULL|               NULL|           5|              NULL|          99|           452|    471|             75%|              18|           63|          452|      2849|            1155|                 10|      1441|     1946|      1036|               70|              1157|                562|        2|                     8|     10| 12718|           34.01|                  8|     23|             17%|            6|                847| NULL|           NULL|   NULL|       NULL|   NULL|              NULL|      NULL|      NULL|          38|        3|  266|       3|           1.0|[34.0,374.0,1.0]| 47.19164415990886|\n",
      "|        Joe Hart|           12|Tottenham-Hotspur|Goalkeeper|    England| 33|        340| 169|    97|    0|           NULL|        NULL|                 NULL|                NULL|            NULL|            NULL| NULL|           NULL|               NULL|        NULL|              NULL|         127|           383|   NULL|            NULL|            NULL|         NULL|         NULL|      NULL|            NULL|               NULL|      NULL|     NULL|      NULL|             NULL|              NULL|               NULL|        0|                    20|      1|  6733|            19.8|               NULL|   NULL|            NULL|         NULL|               1800|  941|              7|    269|        391|    249|               180|      1516|      2806|           7|        0|    6|    NULL|           3.0|[33.0,340.0,3.0]| 47.00332069395315|\n",
      "|      Mark Noble|           16|  West-Ham-United|Midfielder|    England| 33|        383| 130|   158|   46|           0.12|           0|                   44|                   2|              27|               2|  332|            114|                34%|           7|                 3|        NULL|          NULL|    860|             70%|            NULL|           91|          566|       264|              71|               NULL|      2330|     1607|      1534|              243|                99|                131|     NULL|                     3|     35| 17862|           46.64|                 35|    958|             32%|          105|               1484| NULL|           NULL|   NULL|       NULL|   NULL|              NULL|      NULL|      NULL|          81|        5|  380|      27|           0.0|[33.0,383.0,0.0]| 46.72368007038905|\n",
      "|    Theo Walcott|           11|          Everton|   Forward|    England| 31|        346| 176|    93|   75|           0.22|           3|                   60|                  12|               0|               0|  616|            267|                43%|          18|                79|        NULL|          NULL|    214|            NULL|            NULL|          141|          149|        81|              29|               NULL|      NULL|     NULL|      NULL|             NULL|              NULL|               NULL|     NULL|                  NULL|     51|  5491|           15.87|                 61|    952|            NULL|         NULL|               NULL| NULL|           NULL|   NULL|       NULL|   NULL|              NULL|      NULL|      NULL|          10|        0|  101|     163|           2.0|[31.0,346.0,2.0]| 46.48770205899419|\n",
      "|    David de Gea|            1|Manchester-United|Goalkeeper|      Spain| 29|        314| 174|    66|    0|           NULL|        NULL|                 NULL|                NULL|            NULL|            NULL| NULL|           NULL|               NULL|        NULL|              NULL|         113|           317|   NULL|            NULL|            NULL|         NULL|         NULL|      NULL|            NULL|               NULL|      NULL|     NULL|      NULL|             NULL|              NULL|               NULL|        1|                    13|      0|  7009|           22.32|               NULL|   NULL|            NULL|         NULL|               1943|  870|              2|    108|        185|    107|                87|      1205|      2452|           6|        0|    1|    NULL|           3.0|[29.0,314.0,3.0]|44.850126494840794|\n",
      "|   Phil Jagielka|           15| Sheffield-United|  Defender|    England| 38|        366| 147|   111|   18|           NULL|          10|                    8|                   0|            NULL|            NULL| NULL|           NULL|               NULL|           7|              NULL|         107|           405|    703|             76%|              24|           39|          618|      2974|            1075|                 10|      1626|     1842|       928|               35|               783|                495|        6|                     6|      9| 14775|           40.37|                  8|    131|             30%|           11|               1830| NULL|           NULL|   NULL|       NULL|   NULL|              NULL|      NULL|      NULL|          23|        2|  159|       3|           1.0|[38.0,366.0,1.0]| 44.57858231687152|\n",
      "|      Shane Long|            7|      Southampton|   Forward|    Ireland| 33|        322| 110|   143|   55|           0.17|          14|                   28|                  12|               1|               0|  403|            161|                40%|          17|                64|        NULL|          NULL|    230|            NULL|            NULL|           53|          125|       181|             113|               NULL|      NULL|     NULL|      NULL|             NULL|              NULL|               NULL|     NULL|                  NULL|     23|  4540|            14.1|                 25|    307|            NULL|         NULL|               NULL| NULL|           NULL|   NULL|       NULL|   NULL|              NULL|      NULL|      NULL|          28|        0|  395|     186|           2.0|[33.0,322.0,2.0]|42.377491112681575|\n",
      "|Jordan Henderson|           14|        Liverpool|Midfielder|    England| 30|        342| 185|    79|   30|           0.09|           1|                   22|                   7|               1|               2|  344|             99|                29%|           9|                16|        NULL|          NULL|    673|             71%|            NULL|           98|          437|       336|             130|               NULL|      1878|     1182|      1223|              135|               243|                241|     NULL|                     1|     46| 17932|           52.43|                 49|    792|             23%|          129|               1188| NULL|           NULL|   NULL|       NULL|   NULL|              NULL|      NULL|      NULL|          34|        2|  299|      29|           0.0|[30.0,342.0,0.0]| 42.09482839440129|\n",
      "|     Kyle Walker|            2|  Manchester-City|  Defender|    England| 30|        293| 183|    50|    7|           NULL|           0|                    6|                   1|            NULL|            NULL| NULL|           NULL|               NULL|           3|              NULL|          99|           270|    600|             76%|               4|           55|          498|       820|             355|                  4|      1592|     1510|      1104|              239|               446|                292|        2|                     6|     29| 15694|           53.56|                 25|    748|             17%|           29|                900| NULL|           NULL|   NULL|       NULL|   NULL|              NULL|      NULL|      NULL|          45|        1|  239|      22|           1.0|[30.0,293.0,1.0]| 37.32832989261316|\n",
      "+----------------+-------------+-----------------+----------+-----------+---+-----------+----+------+-----+---------------+------------+---------------------+--------------------+----------------+----------------+-----+---------------+-------------------+------------+------------------+------------+--------------+-------+----------------+----------------+-------------+-------------+----------+----------------+-------------------+----------+---------+----------+-----------------+------------------+-------------------+---------+----------------------+-------+------+----------------+-------------------+-------+----------------+-------------+-------------------+-----+---------------+-------+-----------+-------+------------------+----------+----------+------------+---------+-----+--------+--------------+----------------+------------------+\n",
      "\n"
     ]
    }
   ],
   "source": [
    "top_performers.show()\n"
   ]
  },
  {
   "cell_type": "code",
   "execution_count": 112,
   "id": "bb8fef5e-ae85-4181-8340-042b688731cc",
   "metadata": {},
   "outputs": [
    {
     "name": "stdout",
     "output_type": "stream",
     "text": [
      "+---------------+-------------+--------------------+----------+--------------------+---+-----------+----+------+-----+---------------+------------+---------------------+--------------------+----------------+----------------+-----+---------------+-------------------+------------+------------------+------------+--------------+-------+----------------+----------------+-------------+-------------+----------+----------------+-------------------+----------+---------+----------+-----------------+------------------+-------------------+---------+----------------------+-------+------+----------------+-------------------+-------+----------------+-------------+-------------------+-----+---------------+-------+-----------+-------+------------------+----------+----------+------------+---------+-----+--------+--------------+---------------+------------------+\n",
      "|           Name|Jersey Number|                Club|  Position|         Nationality|Age|Appearances|Wins|Losses|Goals|Goals per match|Headed goals|Goals with right foot|Goals with left foot|Penalties scored|Freekicks scored|Shots|Shots on target|Shooting accuracy %|Hit woodwork|Big chances missed|Clean sheets|Goals conceded|Tackles|Tackle success %|Last man tackles|Blocked shots|Interceptions|Clearances|Headed Clearance|Clearances off line|Recoveries|Duels won|Duels lost|Successful 50/50s|Aerial battles won|Aerial battles lost|Own goals|Errors leading to goal|Assists|Passes|Passes per match|Big chances created|Crosses|Cross accuracy %|Through balls|Accurate long balls|Saves|Penalties saved|Punches|High Claims|Catches|Sweeper clearances|Throw outs|Goal Kicks|Yellow cards|Red cards|Fouls|Offsides|Position_Index|       features|        prediction|\n",
      "+---------------+-------------+--------------------+----------+--------------------+---+-----------+----+------+-----+---------------+------------+---------------------+--------------------+----------------+----------------+-----+---------------+-------------------+------------+------------------+------------+--------------+-------+----------------+----------------+-------------+-------------+----------+----------------+-------------------+----------+---------+----------+-----------------+------------------+-------------------+---------+----------------------+-------+------+----------------+-------------------+-------+----------------+-------------+-------------------+-----+---------------+-------+-----------+-------+------------------+----------+----------+------------+---------+-----+--------+--------------+---------------+------------------+\n",
      "|   Thiago Silva|            6|             Chelsea|  Defender|              Brazil| 36|          0|   0|     0|    0|           NULL|           0|                    0|                   0|            NULL|            NULL| NULL|           NULL|               NULL|           0|              NULL|           0|             0|      0|              0%|               0|            0|            0|         0|               0|                  0|         0|        0|         0|                0|                 0|                  0|        0|                     0|      0|     0|             0.0|                  0|      0|              0%|            0|                  0| NULL|           NULL|   NULL|       NULL|   NULL|              NULL|      NULL|      NULL|           0|        0|    0|       0|           1.0| [36.0,0.0,1.0]|-5.982967220297724|\n",
      "|  Mateusz Klich|           43|        Leeds-United|Midfielder|              Poland| 30|          2|   1|     1|    2|            1.0|           0|                    2|                   0|               1|               0|    2|              2|               100%|           0|                 0|        NULL|          NULL|      6|             83%|            NULL|            0|            4|         2|               1|               NULL|        16|       11|        18|                1|                 3|                  2|     NULL|                     0|      1|    92|            46.0|                  0|      3|              3%|            0|                  1| NULL|           NULL|   NULL|       NULL|   NULL|              NULL|      NULL|      NULL|           1|        0|    5|       1|           0.0| [30.0,2.0,0.0]|-5.567732027095709|\n",
      "|         Thiago|            6|           Liverpool|Midfielder|               Spain| 29|          1|   1|     0|    0|            1.0|           0|                    0|                   0|               0|               0|    1|              0|                 1%|           0|                 0|        NULL|          NULL|      1|              1%|            NULL|            0|            1|         0|               0|               NULL|         3|        2|         7|                0|                 1|                  1|     NULL|                     0|      0|    82|            82.0|                  0|      1|              1%|            0|                 10| NULL|           NULL|   NULL|       NULL|   NULL|              NULL|      NULL|      NULL|           0|        0|    3|       0|           0.0| [29.0,1.0,0.0]|-5.335018570055463|\n",
      "|  Stuart Dallas|           15|        Leeds-United|Midfielder|    Northern Ireland| 29|          2|   1|     1|    0|            2.0|           0|                    0|                   0|               0|               0|    0|              0|                 0%|           0|                 0|        NULL|          NULL|     12|             67%|            NULL|            0|            4|         7|               2|               NULL|        18|       19|         5|                2|                 1|                  0|     NULL|                     0|      0|   101|            50.5|                  0|      1|              1%|            1|                  7| NULL|           NULL|   NULL|       NULL|   NULL|              NULL|      NULL|      NULL|           0|        0|    0|       0|           0.0| [29.0,2.0,0.0]|-5.194834568815767|\n",
      "|James Rodríguez|           19|             Everton|Midfielder|            Colombia| 29|          2|   2|     0|    1|            0.5|           0|                    0|                   1|               0|               0|    4|              1|                25%|           0|                 0|        NULL|          NULL|      3|             33%|            NULL|            1|            3|         0|               0|               NULL|         9|       12|        10|                3|                 1|                  3|     NULL|                     0|      1|   109|            54.5|                  2|      7|             29%|            3|                 18| NULL|           NULL|   NULL|       NULL|   NULL|              NULL|      NULL|      NULL|           0|        0|    1|       0|           0.0| [29.0,2.0,0.0]|-5.194834568815767|\n",
      "|          Allan|            6|             Everton|Midfielder|              Brazil| 29|          2|   2|     0|    0|            2.0|           0|                    0|                   0|               0|               0|    1|              1|               100%|           0|                 0|        NULL|          NULL|      9|             56%|            NULL|            0|            3|         3|               1|               NULL|        18|       16|        13|                2|                 1|                  2|     NULL|                     0|      0|   140|            70.0|                  0|      2|              2%|            0|                  7| NULL|           NULL|   NULL|       NULL|   NULL|              NULL|      NULL|      NULL|           0|        0|    4|       0|           0.0| [29.0,2.0,0.0]|-5.194834568815767|\n",
      "|Romaine Sawyers|           19|West-Bromwich-Albion|Midfielder|Saint Kitts And N...| 28|          2|   0|     2|    0|            2.0|           0|                    0|                   0|               0|               0|    0|              0|                 0%|           0|                 0|        NULL|          NULL|      2|              2%|            NULL|            0|            2|         1|               1|               NULL|         9|        6|         9|                0|                 2|                  0|     NULL|                     0|      0|    63|            31.5|                  0|      0|              0%|            0|                  3| NULL|           NULL|   NULL|       NULL|   NULL|              NULL|      NULL|      NULL|           0|        0|    1|       0|           0.0| [28.0,2.0,0.0]|-4.821937110535827|\n",
      "|   Henri Saivet|           28|    Newcastle-United|Midfielder|             Senegal| 29|          5|   3|     2|    1|            0.2|           0|                    1|                   0|               0|               1|    1|              1|               100%|           0|                 0|        NULL|          NULL|     18|             67%|            NULL|            0|            9|        10|               3|               NULL|        24|       23|        20|                1|                 3|                  7|     NULL|                     1|      0|   106|            21.2|                  0|      2|              2%|            0|                  4| NULL|           NULL|   NULL|       NULL|   NULL|              NULL|      NULL|      NULL|           0|        0|    1|       0|           0.0| [29.0,5.0,0.0]|-4.774282565096676|\n",
      "|   Hakim Ziyech|           22|             Chelsea|Midfielder|             Morocco| 27|          0|   0|     0|    0|            0.0|           0|                    0|                   0|               0|               0|    0|              0|                 0%|           0|                 0|        NULL|          NULL|      0|              0%|            NULL|            0|            0|         0|               0|               NULL|         0|        0|         0|                0|                 0|                  0|     NULL|                     0|      0|     0|             0.0|                  0|      0|              0%|            0|                  0| NULL|           NULL|   NULL|       NULL|   NULL|              NULL|      NULL|      NULL|           0|        0|    0|       0|           0.0| [27.0,0.0,0.0]|-4.729407654735279|\n",
      "| Kamil Grosicki|           13|West-Bromwich-Albion|Midfielder|              Poland| 32|         15|   4|     7|    0|           15.0|           0|                    0|                   0|               0|               0|   24|              7|                29%|           1|                 1|        NULL|          NULL|      4|            100%|            NULL|            4|            8|         6|               3|               NULL|        36|       21|        59|               13|                 1|                 11|     NULL|                     0|      4|   251|           16.73|                  5|     84|             20%|            0|                  1| NULL|           NULL|   NULL|       NULL|   NULL|              NULL|      NULL|      NULL|           1|        0|   12|       6|           0.0|[32.0,15.0,0.0]|-4.491134927539529|\n",
      "+---------------+-------------+--------------------+----------+--------------------+---+-----------+----+------+-----+---------------+------------+---------------------+--------------------+----------------+----------------+-----+---------------+-------------------+------------+------------------+------------+--------------+-------+----------------+----------------+-------------+-------------+----------+----------------+-------------------+----------+---------+----------+-----------------+------------------+-------------------+---------+----------------------+-------+------+----------------+-------------------+-------+----------------+-------------+-------------------+-----+---------------+-------+-----------+-------+------------------+----------+----------+------------+---------+-----+--------+--------------+---------------+------------------+\n",
      "\n"
     ]
    }
   ],
   "source": [
    "bottom_performers.show() "
   ]
  },
  {
   "cell_type": "code",
   "execution_count": 40,
   "id": "3c040bba-46eb-4894-8ad3-8816a43cae78",
   "metadata": {},
   "outputs": [],
   "source": [
    "from pyspark.sql.functions import when, col\n",
    "\n",
    "modified_df = df.withColumn(\n",
    "    'ModifiedPosition',\n",
    "    when(col('Position') == 'Midfielder', 'Forward').otherwise(col('Position'))\n",
    ")"
   ]
  },
  {
   "cell_type": "code",
   "execution_count": 41,
   "id": "581736e0-f6ef-445f-8163-0571257d27a1",
   "metadata": {},
   "outputs": [],
   "source": [
    "def calculate_performance_metrics(df, position_column='Position'):\n",
    "    performance_metrics = df.groupBy(position_column).agg(\n",
    "        {'Goals': 'mean', 'Assists': 'mean', 'Appearances': 'mean'}\n",
    "    ).withColumnRenamed('avg(Goals)', 'AverageGoals')\\\n",
    "     .withColumnRenamed('avg(Assists)', 'AverageAssists')\\\n",
    "     .withColumnRenamed('avg(Appearances)', 'AverageAppearances')\n",
    "    return performance_metrics"
   ]
  },
  {
   "cell_type": "code",
   "execution_count": 42,
   "id": "0455fc55-c40b-4bac-abc3-a627ad8d008b",
   "metadata": {},
   "outputs": [],
   "source": [
    "current_performance = calculate_performance_metrics(df)"
   ]
  },
  {
   "cell_type": "code",
   "execution_count": 43,
   "id": "546f9ea7-2a07-40d8-bc9f-4a465f18be67",
   "metadata": {},
   "outputs": [],
   "source": [
    "modified_performance = calculate_performance_metrics(modified_df, 'ModifiedPosition')"
   ]
  },
  {
   "cell_type": "code",
   "execution_count": 44,
   "id": "ab94e28f-e2af-46fb-b850-0016b41778e9",
   "metadata": {},
   "outputs": [
    {
     "name": "stdout",
     "output_type": "stream",
     "text": [
      "+----------+-------------------+------------------+------------------+\n",
      "|  Position|     AverageAssists|AverageAppearances|      AverageGoals|\n",
      "+----------+-------------------+------------------+------------------+\n",
      "|  Defender|  3.329896907216495| 67.25257731958763|2.6597938144329896|\n",
      "|Goalkeeper|0.15942028985507245| 51.82608695652174|               0.0|\n",
      "|   Forward|  8.518181818181818| 77.38181818181818| 21.48181818181818|\n",
      "|Midfielder|  7.191919191919192| 71.53030303030303| 6.590909090909091|\n",
      "+----------+-------------------+------------------+------------------+\n",
      "\n",
      "+----------------+-------------------+------------------+------------------+\n",
      "|ModifiedPosition|     AverageAssists|AverageAppearances|      AverageGoals|\n",
      "+----------------+-------------------+------------------+------------------+\n",
      "|        Defender|  3.329896907216495| 67.25257731958763|2.6597938144329896|\n",
      "|      Goalkeeper|0.15942028985507245| 51.82608695652174|               0.0|\n",
      "|         Forward|  7.665584415584416| 73.62012987012987|11.909090909090908|\n",
      "+----------------+-------------------+------------------+------------------+\n",
      "\n"
     ]
    }
   ],
   "source": [
    "current_performance.show()\n",
    "modified_performance.show()"
   ]
  },
  {
   "cell_type": "markdown",
   "id": "63e1fc9c-c107-4071-854d-5657059d3e6c",
   "metadata": {},
   "source": [
    "<h3>Average Assists, Appearances, and Goals by Position:</h3>\n",
    "\n",
    "Defenders: On average, defenders contribute around 3.33 assists, make approximately 67.25 appearances, and score about 2.66 goals. This suggests that while defenders primarily focus on defensive duties, they also make significant contributions in attack, especially in set-piece situations.\n",
    "\n",
    "Goalkeepers: Goalkeepers, as expected, have minimal involvement in scoring goals and providing assists, with an average of around 0.16 assists and no recorded goals. They make approximately 51.83 appearances, reflecting their consistent presence in the team.\n",
    "\n",
    "Forwards: Forwards have the highest average assists at around 8.52, indicating their key role in creating scoring opportunities for teammates. They also have the highest average goals scored at approximately 21.48, highlighting their primary responsibility of scoring goals. On average, they make about 77.38 appearances.\n",
    "\n",
    "Midfielders: Midfielders, similar to forwards, play a significant role in both scoring and assisting goals. On average, they contribute around 7.19 assists and score approximately 6.59 goals. They make approximately 71.53 appearances, reflecting their consistent presence on the field.\n",
    "\n",
    "<h3>Comparison of Modified Positions:</h3>\n",
    "\n",
    "The second table appears to modify the positions, but it only includes data for \"Defender,\" \"Goalkeeper,\" and \"Forward,\" omitting midfielders. It's unclear how the positions were modified or what criteria were used for this modification."
   ]
  },
  {
   "cell_type": "code",
   "execution_count": 45,
   "id": "bc7ac5d2-b16f-424a-8f61-59674a4d13c3",
   "metadata": {},
   "outputs": [
    {
     "name": "stdout",
     "output_type": "stream",
     "text": [
      "+----------+--------------------+----------------------+--------------------------+---------------------+-----------------------+---------------------------+------------------+-------------------+------------------+\n",
      "|  Position|Current_AverageGoals|Current_AverageAssists|Current_AverageAppearances|Modified_AverageGoals|Modified_AverageAssists|Modified_AverageAppearances|       Delta_Goals|      Delta_Assists| Delta_Appearances|\n",
      "+----------+--------------------+----------------------+--------------------------+---------------------+-----------------------+---------------------------+------------------+-------------------+------------------+\n",
      "|  Defender|  2.6597938144329896|     3.329896907216495|         67.25257731958763|   2.6597938144329896|      3.329896907216495|          67.25257731958763|               0.0|                0.0|               0.0|\n",
      "|Goalkeeper|                 0.0|   0.15942028985507245|         51.82608695652174|                  0.0|    0.15942028985507245|          51.82608695652174|               0.0|                0.0|               0.0|\n",
      "|   Forward|   21.48181818181818|     8.518181818181818|         77.38181818181818|   11.909090909090908|      7.665584415584416|          73.62012987012987|-9.572727272727272|-0.8525974025974019|-3.761688311688303|\n",
      "+----------+--------------------+----------------------+--------------------------+---------------------+-----------------------+---------------------------+------------------+-------------------+------------------+\n",
      "\n"
     ]
    }
   ],
   "source": [
    "comparison_df = current_performance.alias('current').join(\n",
    "    modified_performance.alias('modified'),\n",
    "    col('current.Position') == col('modified.ModifiedPosition'),\n",
    "    'inner'\n",
    ")\n",
    "\n",
    "comparison_df = comparison_df.select(\n",
    "    col(\"current.Position\"),\n",
    "    col(\"current.AverageGoals\").alias(\"Current_AverageGoals\"),\n",
    "    col(\"current.AverageAssists\").alias(\"Current_AverageAssists\"),\n",
    "    col(\"current.AverageAppearances\").alias(\"Current_AverageAppearances\"),\n",
    "    col(\"modified.AverageGoals\").alias(\"Modified_AverageGoals\"),\n",
    "    col(\"modified.AverageAssists\").alias(\"Modified_AverageAssists\"),\n",
    "    col(\"modified.AverageAppearances\").alias(\"Modified_AverageAppearances\")\n",
    ")\n",
    "\n",
    "comparison_df = comparison_df.withColumn(\n",
    "    'Delta_Goals',\n",
    "    col('Modified_AverageGoals') - col('Current_AverageGoals')\n",
    ").withColumn(\n",
    "    'Delta_Assists',\n",
    "    col('Modified_AverageAssists') - col('Current_AverageAssists')\n",
    ").withColumn(\n",
    "    'Delta_Appearances',\n",
    "    col('Modified_AverageAppearances') - col('Current_AverageAppearances')\n",
    ")\n",
    "\n",
    "comparison_df.show()\n"
   ]
  },
  {
   "cell_type": "markdown",
   "id": "3ea7fc00-8da4-4a91-b871-3676b2c073a3",
   "metadata": {},
   "source": [
    "<h4>Analysis</h4>\n",
    "Positive values in Delta_Goals or Delta_Assists indicate an increase in the respective metric in the modified scenario.\n",
    "Negative values indicate a decrease.\n",
    "\n",
    "This analysis can give insights into how positional changes might affect the performance metrics of players.\n",
    "For instance, if moving midfielders to forwards shows a significant increase in goals, it could suggest\n",
    " that these players are being underutilized in their current midfield positions."
   ]
  },
  {
   "cell_type": "code",
   "execution_count": 46,
   "id": "e9b2b83d-ae34-4e3c-b22f-f7be88937371",
   "metadata": {},
   "outputs": [
    {
     "data": {
      "image/png": "[encoded data removed]",
      "text/plain": [
       "<Figure size 1500x500 with 3 Axes>"
      ]
     },
     "metadata": {},
     "output_type": "display_data"
    }
   ],
   "source": [
    "import matplotlib.pyplot as plt\n",
    "import seaborn as sns\n",
    "\n",
    "pandas_df = comparison_df.toPandas()\n",
    "\n",
    "sns.set(style=\"whitegrid\")\n",
    "\n",
    "plt.figure(figsize=(15, 5))\n",
    "\n",
    "plt.subplot(1, 3, 1)\n",
    "sns.barplot(x='Position', y='Delta_Goals', data=pandas_df)\n",
    "plt.title('Difference in Goals')\n",
    "\n",
    "plt.subplot(1, 3, 2)\n",
    "sns.barplot(x='Position', y='Delta_Assists', data=pandas_df)\n",
    "plt.title('Difference in Assists')\n",
    "\n",
    "\n",
    "plt.subplot(1, 3, 3)\n",
    "sns.barplot(x='Position', y='Delta_Appearances', data=pandas_df)\n",
    "plt.title('Difference in Appearances')\n",
    "\n",
    "plt.tight_layout()\n",
    "plt.show()\n"
   ]
  },
  {
   "cell_type": "code",
   "execution_count": 47,
   "id": "3967c1c1-0a3e-4819-a002-ecb18ab9a6bc",
   "metadata": {},
   "outputs": [
    {
     "data": {
      "image/png": "[encoded data removed]",
      "text/plain": [
       "<Figure size 1500x1000 with 1 Axes>"
      ]
     },
     "metadata": {},
     "output_type": "display_data"
    }
   ],
   "source": [
    "import matplotlib.pyplot as plt\n",
    "import seaborn as sns\n",
    "\n",
    "pandas_df = comparison_df.toPandas()\n",
    "\n",
    "sns.set(style=\"whitegrid\")\n",
    "\n",
    "plt.figure(figsize=(15, 10))\n",
    "\n",
    "plt.bar(pandas_df['Position'], pandas_df['Current_AverageGoals'], color='blue', label='Current Goals', alpha=0.6, width=0.4, align='center')\n",
    "plt.bar(pandas_df['Position'], pandas_df['Modified_AverageGoals'], color='green', label='Modified Goals', alpha=0.6, width=0.4, align='edge')\n",
    "\n",
    "plt.plot(pandas_df['Position'], pandas_df['Delta_Goals'], marker='o', label='Delta Goals', color='red')\n",
    "\n",
    "plt.xlabel('Position')\n",
    "plt.ylabel('Metrics')\n",
    "plt.title('Comparison of Current, Modified Goals and Delta Goals')\n",
    "\n",
    "plt.legend()\n",
    "\n",
    "plt.show()\n"
   ]
  },
  {
   "cell_type": "markdown",
   "id": "5f1703bf-2323-4e26-9510-612a95db3c2e",
   "metadata": {},
   "source": [
    "<h4>Analysis</h4>\n",
    "The bar plots show the average goals in the current and modified scenarios side by side for each player position, making it easy to compare them directly.\n",
    "The line plot overlays the change (delta) in goals, providing a clear visual indicator of how much the metric has increased or decreased."
   ]
  },
  {
   "cell_type": "markdown",
   "id": "7d8bc972-0f9d-4f75-a26f-6ee280140fa2",
   "metadata": {},
   "source": [
    "<h1>Team Performance Evaluation<h1>"
   ]
  },
  {
   "cell_type": "code",
   "execution_count": 49,
   "id": "4b88d58a-f93e-41b0-8b48-f382f9e9b5c5",
   "metadata": {},
   "outputs": [],
   "source": [
    "from pyspark.sql import functions as F\n",
    "team_performance = df.groupBy(\"Club\").agg(\n",
    "    sum(\"Goals\").alias(\"Total Goals\"),\n",
    "    sum(\"Assists\").alias(\"Total Assists\"),\n",
    "    avg(\"Goals per match\").alias(\"Average Goals per Match\"),\n",
    "    sum(\"Clean sheets\").alias(\"Total Clean Sheets\"),\n",
    "    sum(\"Shots on target\").alias(\"Total Shots on Target\")\n",
    ")\n",
    "\n"
   ]
  },
  {
   "cell_type": "code",
   "execution_count": 50,
   "id": "503d7eaa-63a0-4dc0-89d9-dcd39c17741f",
   "metadata": {},
   "outputs": [],
   "source": [
    "league_averages = df.agg(\n",
    "    avg(\"Goals\").alias(\"Average Goals\"),\n",
    "    avg(\"Assists\").alias(\"Average Assists\"),\n",
    "    avg(\"Goals per match\").alias(\"League Average Goals per Match\"),\n",
    "    avg(\"Clean sheets\").alias(\"League Average Clean Sheets\"),\n",
    "    avg(\"Shots on target\").alias(\"League Average Shots on Target\")\n",
    ")"
   ]
  },
  {
   "cell_type": "code",
   "execution_count": 51,
   "id": "f32b406f-f475-480e-83d1-bbb9efc62b84",
   "metadata": {},
   "outputs": [],
   "source": [
    "league_averages_dict = league_averages.collect()[0].asDict()\n",
    "for column, value in league_averages_dict.items():\n",
    "    team_performance = team_performance.withColumn(column, F.lit(value))"
   ]
  },
  {
   "cell_type": "code",
   "execution_count": 52,
   "id": "71e63e70-ab4b-4c10-9347-1af0d2e6a56c",
   "metadata": {},
   "outputs": [
    {
     "name": "stdout",
     "output_type": "stream",
     "text": [
      "+--------------------+-----------+-------------+-----------------------+------------------+---------------------+-----------------+-----------------+------------------------------+---------------------------+------------------------------+\n",
      "|                Club|Total Goals|Total Assists|Average Goals per Match|Total Clean Sheets|Total Shots on Target|    Average Goals|  Average Assists|League Average Goals per Match|League Average Clean Sheets|League Average Shots on Target|\n",
      "+--------------------+-----------+-------------+-----------------------+------------------+---------------------+-----------------+-----------------+------------------------------+---------------------------+------------------------------+\n",
      "|   Manchester-United|        270|          209|     0.2535714285714286|               443|                  770|7.327495621716287|5.285464098073555|               2.6484142394822|          16.68702290076336|             36.91585760517799|\n",
      "|   Tottenham-Hotspur|        387|          221|     2.2611764705882353|               395|                 1064|7.327495621716287|5.285464098073555|               2.6484142394822|          16.68702290076336|             36.91585760517799|\n",
      "|             Arsenal|        231|          202|      7.890588235294117|               224|                  553|7.327495621716287|5.285464098073555|               2.6484142394822|          16.68702290076336|             36.91585760517799|\n",
      "|             Burnley|        180|          142|     1.1099999999999999|               280|                  520|7.327495621716287|5.285464098073555|               2.6484142394822|          16.68702290076336|             36.91585760517799|\n",
      "|         Aston-Villa|         49|           56|      4.880666666666667|               131|                  146|7.327495621716287|5.285464098073555|               2.6484142394822|          16.68702290076336|             36.91585760517799|\n",
      "|      Crystal-Palace|        359|          194|      2.306666666666666|               424|                  822|7.327495621716287|5.285464098073555|               2.6484142394822|          16.68702290076336|             36.91585760517799|\n",
      "|        Leeds-United|         12|           18|     3.0493333333333337|                 0|                   46|7.327495621716287|5.285464098073555|               2.6484142394822|          16.68702290076336|             36.91585760517799|\n",
      "|              Fulham|         41|           22|      5.458461538461539|                16|                  145|7.327495621716287|5.285464098073555|               2.6484142394822|          16.68702290076336|             36.91585760517799|\n",
      "|      Leicester-City|        269|          183|                  6.495|               271|                  694|7.327495621716287|5.285464098073555|               2.6484142394822|          16.68702290076336|             36.91585760517799|\n",
      "|         Southampton|        188|          118|     1.1941666666666666|               166|                  605|7.327495621716287|5.285464098073555|               2.6484142394822|          16.68702290076336|             36.91585760517799|\n",
      "|     West-Ham-United|        186|          157|     0.5912500000000002|               179|                  540|7.327495621716287|5.285464098073555|               2.6484142394822|          16.68702290076336|             36.91585760517799|\n",
      "|West-Bromwich-Albion|         94|           79|     1.4873333333333336|               138|                  233|7.327495621716287|5.285464098073555|               2.6484142394822|          16.68702290076336|             36.91585760517799|\n",
      "|    Sheffield-United|         67|           43|     2.3723076923076927|               175|                  171|7.327495621716287|5.285464098073555|               2.6484142394822|          16.68702290076336|             36.91585760517799|\n",
      "|Wolverhampton-Wan...|         67|           55|    0.24583333333333335|               106|                  177|7.327495621716287|5.285464098073555|               2.6484142394822|          16.68702290076336|             36.91585760517799|\n",
      "|           Liverpool|        447|          367|     1.6475000000000002|               281|                 1179|7.327495621716287|5.285464098073555|               2.6484142394822|          16.68702290076336|             36.91585760517799|\n",
      "|     Manchester-City|        496|          313|     3.2256249999999995|               347|                 1259|7.327495621716287|5.285464098073555|               2.6484142394822|          16.68702290076336|             36.91585760517799|\n",
      "|Brighton-and-Hove...|         90|           84|      1.647894736842105|                72|                  302|7.327495621716287|5.285464098073555|               2.6484142394822|          16.68702290076336|             36.91585760517799|\n",
      "|             Chelsea|        219|          159|     0.8314285714285713|               291|                  521|7.327495621716287|5.285464098073555|               2.6484142394822|          16.68702290076336|             36.91585760517799|\n",
      "|    Newcastle-United|        234|          164|    0.11705882352941177|               214|                  699|7.327495621716287|5.285464098073555|               2.6484142394822|          16.68702290076336|             36.91585760517799|\n",
      "|             Everton|        298|          232|     3.9604999999999997|               219|                  961|7.327495621716287|5.285464098073555|               2.6484142394822|          16.68702290076336|             36.91585760517799|\n",
      "+--------------------+-----------+-------------+-----------------------+------------------+---------------------+-----------------+-----------------+------------------------------+---------------------------+------------------------------+\n",
      "\n",
      "+-----------------+-----------------+------------------------------+---------------------------+------------------------------+\n",
      "|    Average Goals|  Average Assists|League Average Goals per Match|League Average Clean Sheets|League Average Shots on Target|\n",
      "+-----------------+-----------------+------------------------------+---------------------------+------------------------------+\n",
      "|7.327495621716287|5.285464098073555|               2.6484142394822|          16.68702290076336|             36.91585760517799|\n",
      "+-----------------+-----------------+------------------------------+---------------------------+------------------------------+\n",
      "\n"
     ]
    }
   ],
   "source": [
    "team_performance.show()\n",
    "league_averages.show()\n",
    "#team_comparison.show()\n",
    "#teams_to_improve.show()"
   ]
  },
  {
   "cell_type": "markdown",
   "id": "695cdf6b-c4c3-4ffc-bb2d-91b37be3ff60",
   "metadata": {},
   "source": [
    "Based on this analysis, you would develop strategic recommendations.\n",
    "For instance, if a team's 'Total Goals' are significantly lower than the 'Average Goals', \n",
    "the recommendation might be to focus on improving attacking strategies or signing goal-scoring players.\n"
   ]
  },
  {
   "cell_type": "code",
   "execution_count": 56,
   "id": "7bceaf46-779e-4a29-9189-3c08998e7db7",
   "metadata": {},
   "outputs": [],
   "source": [
    "import matplotlib.pyplot as plt\n",
    "import seaborn as sns\n",
    "import pandas as pd\n",
    "\n",
    "team_performance_pd = team_performance.toPandas()\n",
    "league_averages_pd = league_averages.toPandas()\n"
   ]
  },
  {
   "cell_type": "code",
   "execution_count": 63,
   "id": "649e4efc-a999-489a-b3e7-da39b2c0bbae",
   "metadata": {},
   "outputs": [
    {
     "name": "stdout",
     "output_type": "stream",
     "text": [
      "League Average Goals: 209.2\n"
     ]
    }
   ],
   "source": [
    "total_goals = team_performance_pd['Total Goals'].sum()  # Sum of all teams' goals\n",
    "number_of_teams = team_performance_pd['Club'].nunique()  # Count of unique teams\n",
    "league_average_goals = total_goals / number_of_teams\n",
    "\n",
    "# Now you can use this correct league average goals in your analysis\n",
    "print(f\"League Average Goals: {league_average_goals}\")"
   ]
  },
  {
   "cell_type": "code",
   "execution_count": 64,
   "id": "774ba168-e41e-4f3f-b176-af4e21ffcafb",
   "metadata": {},
   "outputs": [
    {
     "data": {
      "image/png": "[encoded data removed]",
      "text/plain": [
       "<Figure size 1500x1000 with 1 Axes>"
      ]
     },
     "metadata": {},
     "output_type": "display_data"
    }
   ],
   "source": [
    "plt.figure(figsize=(15, 10))  # Adjust size for clarity\n",
    "plt.barh(team_performance_pd['Club'], team_performance_pd['Total Goals'], color='blue', label='Total Goals')\n",
    "plt.axvline(x=league_average_goals, color='red', linestyle='--', label='League Average Goals')\n",
    "\n",
    "plt.xlabel('Total Goals')\n",
    "plt.title('Team Performance vs. League Average Goals')\n",
    "plt.legend()\n",
    "\n",
    "plt.tight_layout()\n",
    "plt.show()"
   ]
  },
  {
   "cell_type": "markdown",
   "id": "9de8fca2-cd5f-4dbb-9cae-7a203af73759",
   "metadata": {},
   "source": [
    "Identifies which teams are outperforming or underperforming relative to league averages in metrics like goals and assists.\n",
    "Highlights teams with exceptional performance either in scoring or in defensive records (like clean sheets)."
   ]
  },
  {
   "cell_type": "code",
   "execution_count": 58,
   "id": "2f9db3cd-29bf-48f2-be71-99075f226168",
   "metadata": {},
   "outputs": [
    {
     "data": {
      "image/png": "[encoded data removed]",
      "text/plain": [
       "<Figure size 1000x600 with 1 Axes>"
      ]
     },
     "metadata": {},
     "output_type": "display_data"
    }
   ],
   "source": [
    "# Scatter Plot for Goals vs. Assists\n",
    "plt.figure(figsize=(10, 6))\n",
    "sns.scatterplot(x='Total Goals', y='Total Assists', data=team_performance_pd, hue='Club', s=100)\n",
    "plt.title('Scatter Plot of Goals vs. Assists')\n",
    "plt.xlabel('Total Goals')\n",
    "plt.ylabel('Total Assists')\n",
    "plt.legend(bbox_to_anchor=(1.05, 1), loc='upper left')\n",
    "plt.tight_layout()\n",
    "plt.show()"
   ]
  },
  {
   "cell_type": "markdown",
   "id": "f5b5ea32-4aa8-4a26-8693-0bfd9499cf30",
   "metadata": {},
   "source": [
    "Shows the relationship between scoring and assisting, indicating if teams with high goals also have high assists, which can point to strong offensive play.\n",
    "Can help to identify outlier teams that have a high number of goals but low assists, or vice versa."
   ]
  },
  {
   "cell_type": "code",
   "execution_count": 59,
   "id": "efe1e04f-7fbd-452e-a080-b3397b8dd8ac",
   "metadata": {},
   "outputs": [
    {
     "data": {
      "image/png": "[encoded data removed]",
      "text/plain": [
       "<Figure size 1000x600 with 1 Axes>"
      ]
     },
     "metadata": {},
     "output_type": "display_data"
    }
   ],
   "source": [
    "# Histogram for the Distribution of 'Average Goals per Match'\n",
    "plt.figure(figsize=(10, 6))\n",
    "sns.histplot(team_performance_pd['Average Goals per Match'], bins=20, kde=True)\n",
    "plt.title('Distribution of Average Goals per Match')\n",
    "plt.xlabel('Average Goals per Match')\n",
    "plt.tight_layout()\n",
    "plt.show()"
   ]
  },
  {
   "cell_type": "markdown",
   "id": "d1c32a88-e304-4bed-a1ca-ab0f8cb2b415",
   "metadata": {},
   "source": [
    "Reveals the distribution of teams' scoring abilities per match, indicating whether the league is top-heavy (few teams scoring much higher than the rest) or if there's a balanced scoring distribution.\n",
    "Identifies the common scoring rate and how many teams fall above or below this average."
   ]
  },
  {
   "cell_type": "code",
   "execution_count": 67,
   "id": "fa598f1e-ad55-496f-89e7-9976d7900f6c",
   "metadata": {},
   "outputs": [],
   "source": [
    "import pandas as pd\n",
    "\n",
    "league_averages = {\n",
    "    'Average Goals': team_performance_pd['Total Goals'].mean(),\n",
    "    'Average Assists': team_performance_pd['Total Assists'].mean(),\n",
    "    'Average Clean Sheets': team_performance_pd['Total Clean Sheets'].mean(),\n",
    "    'Average Shots on Target': team_performance_pd['Total Shots on Target'].mean()\n",
    "}\n",
    "\n"
   ]
  },
  {
   "cell_type": "code",
   "execution_count": 68,
   "id": "106d0381-8ab3-4cad-be69-5f1452531e30",
   "metadata": {},
   "outputs": [],
   "source": [
    "recruitment_needs = {\n",
    "    'Offensive Recruitment': team_performance_pd[team_performance_pd['Total Goals'] + team_performance_pd['Total Assists'] < league_averages['Average Goals'] + league_averages['Average Assists']],\n",
    "    'Defensive Recruitment': team_performance_pd[team_performance_pd['Total Clean Sheets'] < league_averages['Average Clean Sheets']],\n",
    "    'Attacking Recruitment': team_performance_pd[team_performance_pd['Total Shots on Target'] < league_averages['Average Shots on Target']]\n",
    "}"
   ]
  },
  {
   "cell_type": "code",
   "execution_count": 69,
   "id": "24836b14-9a2c-4a01-9e19-c8425d31af1f",
   "metadata": {},
   "outputs": [
    {
     "name": "stdout",
     "output_type": "stream",
     "text": [
      "Teams needing offensive recruitment (Low Goals and Assists):\n",
      "3                      Burnley\n",
      "4                  Aston-Villa\n",
      "6                 Leeds-United\n",
      "7                       Fulham\n",
      "9                  Southampton\n",
      "10             West-Ham-United\n",
      "11        West-Bromwich-Albion\n",
      "12            Sheffield-United\n",
      "13     Wolverhampton-Wanderers\n",
      "16    Brighton-and-Hove-Albion\n",
      "Name: Club, dtype: object\n",
      "\n",
      "Teams needing defensive recruitment (Few Clean Sheets):\n",
      "4                  Aston-Villa\n",
      "6                 Leeds-United\n",
      "7                       Fulham\n",
      "9                  Southampton\n",
      "10             West-Ham-United\n",
      "11        West-Bromwich-Albion\n",
      "12            Sheffield-United\n",
      "13     Wolverhampton-Wanderers\n",
      "16    Brighton-and-Hove-Albion\n",
      "18            Newcastle-United\n",
      "Name: Club, dtype: object\n",
      "\n",
      "Teams needing attacking recruitment (Low Shots on Target):\n",
      "2                      Arsenal\n",
      "3                      Burnley\n",
      "4                  Aston-Villa\n",
      "6                 Leeds-United\n",
      "7                       Fulham\n",
      "10             West-Ham-United\n",
      "11        West-Bromwich-Albion\n",
      "12            Sheffield-United\n",
      "13     Wolverhampton-Wanderers\n",
      "16    Brighton-and-Hove-Albion\n",
      "17                     Chelsea\n",
      "Name: Club, dtype: object\n"
     ]
    }
   ],
   "source": [
    "print(\"Teams needing offensive recruitment (Low Goals and Assists):\")\n",
    "print(recruitment_needs['Offensive Recruitment']['Club'])\n",
    "\n",
    "print(\"\\nTeams needing defensive recruitment (Few Clean Sheets):\")\n",
    "print(recruitment_needs['Defensive Recruitment']['Club'])\n",
    "\n",
    "print(\"\\nTeams needing attacking recruitment (Low Shots on Target):\")\n",
    "print(recruitment_needs['Attacking Recruitment']['Club'])"
   ]
  },
  {
   "cell_type": "code",
   "execution_count": 85,
   "id": "0f7ecc5e-fe4b-4d86-b387-a871dc7b12d8",
   "metadata": {},
   "outputs": [],
   "source": [
    "teams_needing_offensive_recruitment = ['Burnley', 'Aston-Villa', 'Leeds-United']\n",
    "teams_needing_defensive_recruitment = ['Aston-Villa', 'Leeds-United', 'Fulham']\n",
    "teams_needing_attacking_recruitment = ['Arsenal', 'Burnley', 'Aston-Villa']"
   ]
  },
  {
   "cell_type": "code",
   "execution_count": 90,
   "id": "db1d307b-cbfe-46d1-9c56-3f744aa498cf",
   "metadata": {},
   "outputs": [],
   "source": [
    "def recommend_players(player_data, teams_list, recruitment_type):\n",
    "    recommendations = {}\n",
    "    for team in teams_list:\n",
    "        if recruitment_type == 'offensive':\n",
    "            # Find top players not in the given team with high goals and assists\n",
    "            top_players = player_data[(~player_data['Club'].isin(teams_list)) & \n",
    "                                      (player_data['Goals'] + player_data['Assists'] > 10)]  # Example criterion\n",
    "        elif recruitment_type == 'defensive':\n",
    "            # Find top defenders/goalkeepers from other teams with good defensive records\n",
    "            top_players = player_data[(~player_data['Club'].isin(teams_list)) & \n",
    "                                      (player_data['Clean sheets'] > 5) & \n",
    "                                      (player_data['Position'].str.contains('Defender|Goalkeeper'))]\n",
    "        elif recruitment_type == 'attacking':\n",
    "            # Find top attackers from other teams with high shots on target\n",
    "            top_players = player_data[(~player_data['Club'].isin(teams_list)) & \n",
    "                                      (player_data['Shots on target'] > 30)]\n",
    "\n",
    "\n",
    "        relevant_columns = ['Name', 'Club', 'Goals', 'Assists', 'Clean sheets', 'Shots on target']\n",
    "        recommendations[team] = top_players[relevant_columns].sort_values(by=['Goals', 'Assists'], ascending=False).head(5)\n",
    "\n",
    "    return recommendations\n"
   ]
  },
  {
   "cell_type": "code",
   "execution_count": 92,
   "id": "0585fd20-1550-4b1c-9053-17ff00b5b856",
   "metadata": {},
   "outputs": [],
   "source": [
    "offensive_recommendations = recommend_players(player_data, teams_needing_offensive_recruitment, 'offensive')"
   ]
  },
  {
   "cell_type": "code",
   "execution_count": 94,
   "id": "b4d0ff6d-8434-4419-a135-d1ab919305fa",
   "metadata": {},
   "outputs": [
    {
     "name": "stdout",
     "output_type": "stream",
     "text": [
      "Burnley should consider recruiting the following players to enhance their offensive capabilities:\n"
     ]
    },
    {
     "data": {
      "text/html": [
       "<div>\n",
       "<style scoped>\n",
       "    .dataframe tbody tr th:only-of-type {\n",
       "        vertical-align: middle;\n",
       "    }\n",
       "\n",
       "    .dataframe tbody tr th {\n",
       "        vertical-align: top;\n",
       "    }\n",
       "\n",
       "    .dataframe thead th {\n",
       "        text-align: right;\n",
       "    }\n",
       "</style>\n",
       "<table border=\"1\" class=\"dataframe\">\n",
       "  <thead>\n",
       "    <tr style=\"text-align: right;\">\n",
       "      <th></th>\n",
       "      <th>Name</th>\n",
       "      <th>Club</th>\n",
       "      <th>Goals</th>\n",
       "      <th>Assists</th>\n",
       "      <th>Shots on target</th>\n",
       "    </tr>\n",
       "  </thead>\n",
       "  <tbody>\n",
       "    <tr>\n",
       "      <th>344</th>\n",
       "      <td>Sergio Agüero</td>\n",
       "      <td>Manchester-City</td>\n",
       "      <td>180</td>\n",
       "      <td>46</td>\n",
       "      <td>411.0</td>\n",
       "    </tr>\n",
       "    <tr>\n",
       "      <th>489</th>\n",
       "      <td>Harry Kane</td>\n",
       "      <td>Tottenham-Hotspur</td>\n",
       "      <td>144</td>\n",
       "      <td>24</td>\n",
       "      <td>354.0</td>\n",
       "    </tr>\n",
       "    <tr>\n",
       "      <th>281</th>\n",
       "      <td>Jamie Vardy</td>\n",
       "      <td>Leicester-City</td>\n",
       "      <td>105</td>\n",
       "      <td>29</td>\n",
       "      <td>223.0</td>\n",
       "    </tr>\n",
       "    <tr>\n",
       "      <th>342</th>\n",
       "      <td>Raheem Sterling</td>\n",
       "      <td>Manchester-City</td>\n",
       "      <td>86</td>\n",
       "      <td>45</td>\n",
       "      <td>222.0</td>\n",
       "    </tr>\n",
       "    <tr>\n",
       "      <th>313</th>\n",
       "      <td>Sadio Mané</td>\n",
       "      <td>Liverpool</td>\n",
       "      <td>86</td>\n",
       "      <td>29</td>\n",
       "      <td>190.0</td>\n",
       "    </tr>\n",
       "  </tbody>\n",
       "</table>\n",
       "</div>"
      ],
      "text/plain": [
       "                Name               Club  Goals  Assists  Shots on target\n",
       "344    Sergio Agüero    Manchester-City    180       46            411.0\n",
       "489       Harry Kane  Tottenham-Hotspur    144       24            354.0\n",
       "281      Jamie Vardy     Leicester-City    105       29            223.0\n",
       "342  Raheem Sterling    Manchester-City     86       45            222.0\n",
       "313       Sadio Mané          Liverpool     86       29            190.0"
      ]
     },
     "metadata": {},
     "output_type": "display_data"
    },
    {
     "name": "stdout",
     "output_type": "stream",
     "text": [
      "\n",
      "\n",
      "Aston-Villa should consider recruiting the following players to enhance their offensive capabilities:\n"
     ]
    },
    {
     "data": {
      "text/html": [
       "<div>\n",
       "<style scoped>\n",
       "    .dataframe tbody tr th:only-of-type {\n",
       "        vertical-align: middle;\n",
       "    }\n",
       "\n",
       "    .dataframe tbody tr th {\n",
       "        vertical-align: top;\n",
       "    }\n",
       "\n",
       "    .dataframe thead th {\n",
       "        text-align: right;\n",
       "    }\n",
       "</style>\n",
       "<table border=\"1\" class=\"dataframe\">\n",
       "  <thead>\n",
       "    <tr style=\"text-align: right;\">\n",
       "      <th></th>\n",
       "      <th>Name</th>\n",
       "      <th>Club</th>\n",
       "      <th>Goals</th>\n",
       "      <th>Assists</th>\n",
       "      <th>Shots on target</th>\n",
       "    </tr>\n",
       "  </thead>\n",
       "  <tbody>\n",
       "    <tr>\n",
       "      <th>344</th>\n",
       "      <td>Sergio Agüero</td>\n",
       "      <td>Manchester-City</td>\n",
       "      <td>180</td>\n",
       "      <td>46</td>\n",
       "      <td>411.0</td>\n",
       "    </tr>\n",
       "    <tr>\n",
       "      <th>489</th>\n",
       "      <td>Harry Kane</td>\n",
       "      <td>Tottenham-Hotspur</td>\n",
       "      <td>144</td>\n",
       "      <td>24</td>\n",
       "      <td>354.0</td>\n",
       "    </tr>\n",
       "    <tr>\n",
       "      <th>281</th>\n",
       "      <td>Jamie Vardy</td>\n",
       "      <td>Leicester-City</td>\n",
       "      <td>105</td>\n",
       "      <td>29</td>\n",
       "      <td>223.0</td>\n",
       "    </tr>\n",
       "    <tr>\n",
       "      <th>342</th>\n",
       "      <td>Raheem Sterling</td>\n",
       "      <td>Manchester-City</td>\n",
       "      <td>86</td>\n",
       "      <td>45</td>\n",
       "      <td>222.0</td>\n",
       "    </tr>\n",
       "    <tr>\n",
       "      <th>313</th>\n",
       "      <td>Sadio Mané</td>\n",
       "      <td>Liverpool</td>\n",
       "      <td>86</td>\n",
       "      <td>29</td>\n",
       "      <td>190.0</td>\n",
       "    </tr>\n",
       "  </tbody>\n",
       "</table>\n",
       "</div>"
      ],
      "text/plain": [
       "                Name               Club  Goals  Assists  Shots on target\n",
       "344    Sergio Agüero    Manchester-City    180       46            411.0\n",
       "489       Harry Kane  Tottenham-Hotspur    144       24            354.0\n",
       "281      Jamie Vardy     Leicester-City    105       29            223.0\n",
       "342  Raheem Sterling    Manchester-City     86       45            222.0\n",
       "313       Sadio Mané          Liverpool     86       29            190.0"
      ]
     },
     "metadata": {},
     "output_type": "display_data"
    },
    {
     "name": "stdout",
     "output_type": "stream",
     "text": [
      "\n",
      "\n",
      "Leeds-United should consider recruiting the following players to enhance their offensive capabilities:\n"
     ]
    },
    {
     "data": {
      "text/html": [
       "<div>\n",
       "<style scoped>\n",
       "    .dataframe tbody tr th:only-of-type {\n",
       "        vertical-align: middle;\n",
       "    }\n",
       "\n",
       "    .dataframe tbody tr th {\n",
       "        vertical-align: top;\n",
       "    }\n",
       "\n",
       "    .dataframe thead th {\n",
       "        text-align: right;\n",
       "    }\n",
       "</style>\n",
       "<table border=\"1\" class=\"dataframe\">\n",
       "  <thead>\n",
       "    <tr style=\"text-align: right;\">\n",
       "      <th></th>\n",
       "      <th>Name</th>\n",
       "      <th>Club</th>\n",
       "      <th>Goals</th>\n",
       "      <th>Assists</th>\n",
       "      <th>Shots on target</th>\n",
       "    </tr>\n",
       "  </thead>\n",
       "  <tbody>\n",
       "    <tr>\n",
       "      <th>344</th>\n",
       "      <td>Sergio Agüero</td>\n",
       "      <td>Manchester-City</td>\n",
       "      <td>180</td>\n",
       "      <td>46</td>\n",
       "      <td>411.0</td>\n",
       "    </tr>\n",
       "    <tr>\n",
       "      <th>489</th>\n",
       "      <td>Harry Kane</td>\n",
       "      <td>Tottenham-Hotspur</td>\n",
       "      <td>144</td>\n",
       "      <td>24</td>\n",
       "      <td>354.0</td>\n",
       "    </tr>\n",
       "    <tr>\n",
       "      <th>281</th>\n",
       "      <td>Jamie Vardy</td>\n",
       "      <td>Leicester-City</td>\n",
       "      <td>105</td>\n",
       "      <td>29</td>\n",
       "      <td>223.0</td>\n",
       "    </tr>\n",
       "    <tr>\n",
       "      <th>342</th>\n",
       "      <td>Raheem Sterling</td>\n",
       "      <td>Manchester-City</td>\n",
       "      <td>86</td>\n",
       "      <td>45</td>\n",
       "      <td>222.0</td>\n",
       "    </tr>\n",
       "    <tr>\n",
       "      <th>313</th>\n",
       "      <td>Sadio Mané</td>\n",
       "      <td>Liverpool</td>\n",
       "      <td>86</td>\n",
       "      <td>29</td>\n",
       "      <td>190.0</td>\n",
       "    </tr>\n",
       "  </tbody>\n",
       "</table>\n",
       "</div>"
      ],
      "text/plain": [
       "                Name               Club  Goals  Assists  Shots on target\n",
       "344    Sergio Agüero    Manchester-City    180       46            411.0\n",
       "489       Harry Kane  Tottenham-Hotspur    144       24            354.0\n",
       "281      Jamie Vardy     Leicester-City    105       29            223.0\n",
       "342  Raheem Sterling    Manchester-City     86       45            222.0\n",
       "313       Sadio Mané          Liverpool     86       29            190.0"
      ]
     },
     "metadata": {},
     "output_type": "display_data"
    },
    {
     "name": "stdout",
     "output_type": "stream",
     "text": [
      "\n",
      "\n"
     ]
    }
   ],
   "source": [
    "for team, recommendations in offensive_recommendations.items():\n",
    "    print(f\"{team} should consider recruiting the following players to enhance their offensive capabilities:\")\n",
    "    display(recommendations[['Name', 'Club', 'Goals', 'Assists', 'Shots on target']])\n",
    "    print(\"\\n\")"
   ]
  },
  {
   "cell_type": "code",
   "execution_count": 95,
   "id": "d714866d-f72d-409e-906a-064c1ed67722",
   "metadata": {},
   "outputs": [],
   "source": [
    "def recommend_players_for_role(player_data, teams_list, role):\n",
    "    recommendations = {}\n",
    "    for team in teams_list:\n",
    "        if role == 'defensive':\n",
    "            # Find top defenders not in the given team with good defensive stats\n",
    "            top_defenders = player_data[(~player_data['Club'].isin(teams_list)) &\n",
    "                                        (player_data['Position'].str.contains('Defender')) &\n",
    "                                        (player_data['Clean sheets'] > 5) &  # Example criterion\n",
    "                                        (player_data['Interceptions'] + player_data['Tackles'] > 50)]  # Adjust criteria as needed\n",
    "            relevant_columns = ['Name', 'Club', 'Clean sheets', 'Interceptions', 'Tackles']\n",
    "            recommendations[team] = top_defenders[relevant_columns].sort_values(by=['Clean sheets', 'Interceptions', 'Tackles'], ascending=False).head(5)\n",
    "\n",
    "        elif role == 'midfield':\n",
    "            # Find top midfielders not in the given team with good playmaking stats\n",
    "            top_midfielders = player_data[(~player_data['Club'].isin(teams_list)) &\n",
    "                                          (player_data['Position'].str.contains('Midfield')) &\n",
    "                                          (player_data['Assists'] + player_data['Big chances created'] > 10)]  # Adjust criteria as needed\n",
    "            relevant_columns = ['Name', 'Club', 'Assists', 'Passes', 'Big chances created']\n",
    "            recommendations[team] = top_midfielders[relevant_columns].sort_values(by=['Assists', 'Big chances created'], ascending=False).head(5)\n",
    "\n",
    "    return recommendations\n"
   ]
  },
  {
   "cell_type": "code",
   "execution_count": 98,
   "id": "64eb5582-6288-492e-bd23-86f7abdc39af",
   "metadata": {},
   "outputs": [],
   "source": [
    "teams_needing_defensive_recruitment = ['Aston-Villa', 'Leeds-United', 'Fulham']\n",
    "teams_needing_midfield_recruitment = ['Burnley', 'Aston-Villa', 'Leeds-United']\n",
    "\n",
    "defensive_recommendations = recommend_players_for_role(player_data, teams_needing_defensive_recruitment, 'defensive')\n",
    "midfield_recommendations = recommend_players_for_role(player_data, teams_needing_midfield_recruitment, 'midfield')"
   ]
  },
  {
   "cell_type": "code",
   "execution_count": 99,
   "id": "169b21bc-54ef-461f-8bee-15d5709fa575",
   "metadata": {},
   "outputs": [
    {
     "name": "stdout",
     "output_type": "stream",
     "text": [
      "Defensive Recruitment Recommendations:\n",
      "\n",
      "Aston-Villa should consider recruiting the following defenders:\n"
     ]
    },
    {
     "data": {
      "text/html": [
       "<div>\n",
       "<style scoped>\n",
       "    .dataframe tbody tr th:only-of-type {\n",
       "        vertical-align: middle;\n",
       "    }\n",
       "\n",
       "    .dataframe tbody tr th {\n",
       "        vertical-align: top;\n",
       "    }\n",
       "\n",
       "    .dataframe thead th {\n",
       "        text-align: right;\n",
       "    }\n",
       "</style>\n",
       "<table border=\"1\" class=\"dataframe\">\n",
       "  <thead>\n",
       "    <tr style=\"text-align: right;\">\n",
       "      <th></th>\n",
       "      <th>Name</th>\n",
       "      <th>Club</th>\n",
       "      <th>Clean sheets</th>\n",
       "      <th>Interceptions</th>\n",
       "      <th>Tackles</th>\n",
       "    </tr>\n",
       "  </thead>\n",
       "  <tbody>\n",
       "    <tr>\n",
       "      <th>419</th>\n",
       "      <td>Phil Jagielka</td>\n",
       "      <td>Sheffield-United</td>\n",
       "      <td>107.0</td>\n",
       "      <td>618.0</td>\n",
       "      <td>703.0</td>\n",
       "    </tr>\n",
       "    <tr>\n",
       "      <th>324</th>\n",
       "      <td>Kyle Walker</td>\n",
       "      <td>Manchester-City</td>\n",
       "      <td>99.0</td>\n",
       "      <td>498.0</td>\n",
       "      <td>600.0</td>\n",
       "    </tr>\n",
       "    <tr>\n",
       "      <th>151</th>\n",
       "      <td>Gary Cahill</td>\n",
       "      <td>Crystal-Palace</td>\n",
       "      <td>99.0</td>\n",
       "      <td>452.0</td>\n",
       "      <td>471.0</td>\n",
       "    </tr>\n",
       "    <tr>\n",
       "      <th>122</th>\n",
       "      <td>César Azpilicueta</td>\n",
       "      <td>Chelsea</td>\n",
       "      <td>95.0</td>\n",
       "      <td>475.0</td>\n",
       "      <td>722.0</td>\n",
       "    </tr>\n",
       "    <tr>\n",
       "      <th>504</th>\n",
       "      <td>Branislav Ivanovic</td>\n",
       "      <td>West-Bromwich-Albion</td>\n",
       "      <td>86.0</td>\n",
       "      <td>393.0</td>\n",
       "      <td>528.0</td>\n",
       "    </tr>\n",
       "  </tbody>\n",
       "</table>\n",
       "</div>"
      ],
      "text/plain": [
       "                   Name                  Club  Clean sheets  Interceptions  \\\n",
       "419       Phil Jagielka      Sheffield-United         107.0          618.0   \n",
       "324         Kyle Walker       Manchester-City          99.0          498.0   \n",
       "151         Gary Cahill        Crystal-Palace          99.0          452.0   \n",
       "122   César Azpilicueta               Chelsea          95.0          475.0   \n",
       "504  Branislav Ivanovic  West-Bromwich-Albion          86.0          393.0   \n",
       "\n",
       "     Tackles  \n",
       "419    703.0  \n",
       "324    600.0  \n",
       "151    471.0  \n",
       "122    722.0  \n",
       "504    528.0  "
      ]
     },
     "metadata": {},
     "output_type": "display_data"
    },
    {
     "name": "stdout",
     "output_type": "stream",
     "text": [
      "\n",
      "\n",
      "Leeds-United should consider recruiting the following defenders:\n"
     ]
    },
    {
     "data": {
      "text/html": [
       "<div>\n",
       "<style scoped>\n",
       "    .dataframe tbody tr th:only-of-type {\n",
       "        vertical-align: middle;\n",
       "    }\n",
       "\n",
       "    .dataframe tbody tr th {\n",
       "        vertical-align: top;\n",
       "    }\n",
       "\n",
       "    .dataframe thead th {\n",
       "        text-align: right;\n",
       "    }\n",
       "</style>\n",
       "<table border=\"1\" class=\"dataframe\">\n",
       "  <thead>\n",
       "    <tr style=\"text-align: right;\">\n",
       "      <th></th>\n",
       "      <th>Name</th>\n",
       "      <th>Club</th>\n",
       "      <th>Clean sheets</th>\n",
       "      <th>Interceptions</th>\n",
       "      <th>Tackles</th>\n",
       "    </tr>\n",
       "  </thead>\n",
       "  <tbody>\n",
       "    <tr>\n",
       "      <th>419</th>\n",
       "      <td>Phil Jagielka</td>\n",
       "      <td>Sheffield-United</td>\n",
       "      <td>107.0</td>\n",
       "      <td>618.0</td>\n",
       "      <td>703.0</td>\n",
       "    </tr>\n",
       "    <tr>\n",
       "      <th>324</th>\n",
       "      <td>Kyle Walker</td>\n",
       "      <td>Manchester-City</td>\n",
       "      <td>99.0</td>\n",
       "      <td>498.0</td>\n",
       "      <td>600.0</td>\n",
       "    </tr>\n",
       "    <tr>\n",
       "      <th>151</th>\n",
       "      <td>Gary Cahill</td>\n",
       "      <td>Crystal-Palace</td>\n",
       "      <td>99.0</td>\n",
       "      <td>452.0</td>\n",
       "      <td>471.0</td>\n",
       "    </tr>\n",
       "    <tr>\n",
       "      <th>122</th>\n",
       "      <td>César Azpilicueta</td>\n",
       "      <td>Chelsea</td>\n",
       "      <td>95.0</td>\n",
       "      <td>475.0</td>\n",
       "      <td>722.0</td>\n",
       "    </tr>\n",
       "    <tr>\n",
       "      <th>504</th>\n",
       "      <td>Branislav Ivanovic</td>\n",
       "      <td>West-Bromwich-Albion</td>\n",
       "      <td>86.0</td>\n",
       "      <td>393.0</td>\n",
       "      <td>528.0</td>\n",
       "    </tr>\n",
       "  </tbody>\n",
       "</table>\n",
       "</div>"
      ],
      "text/plain": [
       "                   Name                  Club  Clean sheets  Interceptions  \\\n",
       "419       Phil Jagielka      Sheffield-United         107.0          618.0   \n",
       "324         Kyle Walker       Manchester-City          99.0          498.0   \n",
       "151         Gary Cahill        Crystal-Palace          99.0          452.0   \n",
       "122   César Azpilicueta               Chelsea          95.0          475.0   \n",
       "504  Branislav Ivanovic  West-Bromwich-Albion          86.0          393.0   \n",
       "\n",
       "     Tackles  \n",
       "419    703.0  \n",
       "324    600.0  \n",
       "151    471.0  \n",
       "122    722.0  \n",
       "504    528.0  "
      ]
     },
     "metadata": {},
     "output_type": "display_data"
    },
    {
     "name": "stdout",
     "output_type": "stream",
     "text": [
      "\n",
      "\n",
      "Fulham should consider recruiting the following defenders:\n"
     ]
    },
    {
     "data": {
      "text/html": [
       "<div>\n",
       "<style scoped>\n",
       "    .dataframe tbody tr th:only-of-type {\n",
       "        vertical-align: middle;\n",
       "    }\n",
       "\n",
       "    .dataframe tbody tr th {\n",
       "        vertical-align: top;\n",
       "    }\n",
       "\n",
       "    .dataframe thead th {\n",
       "        text-align: right;\n",
       "    }\n",
       "</style>\n",
       "<table border=\"1\" class=\"dataframe\">\n",
       "  <thead>\n",
       "    <tr style=\"text-align: right;\">\n",
       "      <th></th>\n",
       "      <th>Name</th>\n",
       "      <th>Club</th>\n",
       "      <th>Clean sheets</th>\n",
       "      <th>Interceptions</th>\n",
       "      <th>Tackles</th>\n",
       "    </tr>\n",
       "  </thead>\n",
       "  <tbody>\n",
       "    <tr>\n",
       "      <th>419</th>\n",
       "      <td>Phil Jagielka</td>\n",
       "      <td>Sheffield-United</td>\n",
       "      <td>107.0</td>\n",
       "      <td>618.0</td>\n",
       "      <td>703.0</td>\n",
       "    </tr>\n",
       "    <tr>\n",
       "      <th>324</th>\n",
       "      <td>Kyle Walker</td>\n",
       "      <td>Manchester-City</td>\n",
       "      <td>99.0</td>\n",
       "      <td>498.0</td>\n",
       "      <td>600.0</td>\n",
       "    </tr>\n",
       "    <tr>\n",
       "      <th>151</th>\n",
       "      <td>Gary Cahill</td>\n",
       "      <td>Crystal-Palace</td>\n",
       "      <td>99.0</td>\n",
       "      <td>452.0</td>\n",
       "      <td>471.0</td>\n",
       "    </tr>\n",
       "    <tr>\n",
       "      <th>122</th>\n",
       "      <td>César Azpilicueta</td>\n",
       "      <td>Chelsea</td>\n",
       "      <td>95.0</td>\n",
       "      <td>475.0</td>\n",
       "      <td>722.0</td>\n",
       "    </tr>\n",
       "    <tr>\n",
       "      <th>504</th>\n",
       "      <td>Branislav Ivanovic</td>\n",
       "      <td>West-Bromwich-Albion</td>\n",
       "      <td>86.0</td>\n",
       "      <td>393.0</td>\n",
       "      <td>528.0</td>\n",
       "    </tr>\n",
       "  </tbody>\n",
       "</table>\n",
       "</div>"
      ],
      "text/plain": [
       "                   Name                  Club  Clean sheets  Interceptions  \\\n",
       "419       Phil Jagielka      Sheffield-United         107.0          618.0   \n",
       "324         Kyle Walker       Manchester-City          99.0          498.0   \n",
       "151         Gary Cahill        Crystal-Palace          99.0          452.0   \n",
       "122   César Azpilicueta               Chelsea          95.0          475.0   \n",
       "504  Branislav Ivanovic  West-Bromwich-Albion          86.0          393.0   \n",
       "\n",
       "     Tackles  \n",
       "419    703.0  \n",
       "324    600.0  \n",
       "151    471.0  \n",
       "122    722.0  \n",
       "504    528.0  "
      ]
     },
     "metadata": {},
     "output_type": "display_data"
    },
    {
     "name": "stdout",
     "output_type": "stream",
     "text": [
      "\n",
      "\n"
     ]
    }
   ],
   "source": [
    "print(\"Defensive Recruitment Recommendations:\\n\")\n",
    "for team, players in defensive_recommendations.items():\n",
    "    print(f\"{team} should consider recruiting the following defenders:\")\n",
    "    display(players)\n",
    "    print(\"\\n\")"
   ]
  },
  {
   "cell_type": "code",
   "execution_count": 100,
   "id": "8c523506-c9b6-42bf-8e6b-2166552d05bd",
   "metadata": {},
   "outputs": [
    {
     "name": "stdout",
     "output_type": "stream",
     "text": [
      "Midfield Recruitment Recommendations:\n",
      "\n",
      "Burnley should consider recruiting the following midfielders:\n"
     ]
    },
    {
     "data": {
      "text/html": [
       "<div>\n",
       "<style scoped>\n",
       "    .dataframe tbody tr th:only-of-type {\n",
       "        vertical-align: middle;\n",
       "    }\n",
       "\n",
       "    .dataframe tbody tr th {\n",
       "        vertical-align: top;\n",
       "    }\n",
       "\n",
       "    .dataframe thead th {\n",
       "        text-align: right;\n",
       "    }\n",
       "</style>\n",
       "<table border=\"1\" class=\"dataframe\">\n",
       "  <thead>\n",
       "    <tr style=\"text-align: right;\">\n",
       "      <th></th>\n",
       "      <th>Name</th>\n",
       "      <th>Club</th>\n",
       "      <th>Assists</th>\n",
       "      <th>Passes</th>\n",
       "      <th>Big chances created</th>\n",
       "    </tr>\n",
       "  </thead>\n",
       "  <tbody>\n",
       "    <tr>\n",
       "      <th>302</th>\n",
       "      <td>James Milner</td>\n",
       "      <td>Liverpool</td>\n",
       "      <td>84</td>\n",
       "      <td>16171</td>\n",
       "      <td>46.0</td>\n",
       "    </tr>\n",
       "    <tr>\n",
       "      <th>335</th>\n",
       "      <td>Kevin De Bruyne</td>\n",
       "      <td>Manchester-City</td>\n",
       "      <td>67</td>\n",
       "      <td>8407</td>\n",
       "      <td>97.0</td>\n",
       "    </tr>\n",
       "    <tr>\n",
       "      <th>13</th>\n",
       "      <td>Mesut Özil</td>\n",
       "      <td>Arsenal</td>\n",
       "      <td>54</td>\n",
       "      <td>11186</td>\n",
       "      <td>65.0</td>\n",
       "    </tr>\n",
       "    <tr>\n",
       "      <th>365</th>\n",
       "      <td>Juan Mata</td>\n",
       "      <td>Manchester-United</td>\n",
       "      <td>52</td>\n",
       "      <td>11379</td>\n",
       "      <td>68.0</td>\n",
       "    </tr>\n",
       "    <tr>\n",
       "      <th>304</th>\n",
       "      <td>Jordan Henderson</td>\n",
       "      <td>Liverpool</td>\n",
       "      <td>46</td>\n",
       "      <td>17932</td>\n",
       "      <td>49.0</td>\n",
       "    </tr>\n",
       "  </tbody>\n",
       "</table>\n",
       "</div>"
      ],
      "text/plain": [
       "                 Name               Club  Assists  Passes  Big chances created\n",
       "302      James Milner          Liverpool       84   16171                 46.0\n",
       "335   Kevin De Bruyne    Manchester-City       67    8407                 97.0\n",
       "13         Mesut Özil            Arsenal       54   11186                 65.0\n",
       "365         Juan Mata  Manchester-United       52   11379                 68.0\n",
       "304  Jordan Henderson          Liverpool       46   17932                 49.0"
      ]
     },
     "metadata": {},
     "output_type": "display_data"
    },
    {
     "name": "stdout",
     "output_type": "stream",
     "text": [
      "\n",
      "\n",
      "Aston-Villa should consider recruiting the following midfielders:\n"
     ]
    },
    {
     "data": {
      "text/html": [
       "<div>\n",
       "<style scoped>\n",
       "    .dataframe tbody tr th:only-of-type {\n",
       "        vertical-align: middle;\n",
       "    }\n",
       "\n",
       "    .dataframe tbody tr th {\n",
       "        vertical-align: top;\n",
       "    }\n",
       "\n",
       "    .dataframe thead th {\n",
       "        text-align: right;\n",
       "    }\n",
       "</style>\n",
       "<table border=\"1\" class=\"dataframe\">\n",
       "  <thead>\n",
       "    <tr style=\"text-align: right;\">\n",
       "      <th></th>\n",
       "      <th>Name</th>\n",
       "      <th>Club</th>\n",
       "      <th>Assists</th>\n",
       "      <th>Passes</th>\n",
       "      <th>Big chances created</th>\n",
       "    </tr>\n",
       "  </thead>\n",
       "  <tbody>\n",
       "    <tr>\n",
       "      <th>302</th>\n",
       "      <td>James Milner</td>\n",
       "      <td>Liverpool</td>\n",
       "      <td>84</td>\n",
       "      <td>16171</td>\n",
       "      <td>46.0</td>\n",
       "    </tr>\n",
       "    <tr>\n",
       "      <th>335</th>\n",
       "      <td>Kevin De Bruyne</td>\n",
       "      <td>Manchester-City</td>\n",
       "      <td>67</td>\n",
       "      <td>8407</td>\n",
       "      <td>97.0</td>\n",
       "    </tr>\n",
       "    <tr>\n",
       "      <th>13</th>\n",
       "      <td>Mesut Özil</td>\n",
       "      <td>Arsenal</td>\n",
       "      <td>54</td>\n",
       "      <td>11186</td>\n",
       "      <td>65.0</td>\n",
       "    </tr>\n",
       "    <tr>\n",
       "      <th>365</th>\n",
       "      <td>Juan Mata</td>\n",
       "      <td>Manchester-United</td>\n",
       "      <td>52</td>\n",
       "      <td>11379</td>\n",
       "      <td>68.0</td>\n",
       "    </tr>\n",
       "    <tr>\n",
       "      <th>304</th>\n",
       "      <td>Jordan Henderson</td>\n",
       "      <td>Liverpool</td>\n",
       "      <td>46</td>\n",
       "      <td>17932</td>\n",
       "      <td>49.0</td>\n",
       "    </tr>\n",
       "  </tbody>\n",
       "</table>\n",
       "</div>"
      ],
      "text/plain": [
       "                 Name               Club  Assists  Passes  Big chances created\n",
       "302      James Milner          Liverpool       84   16171                 46.0\n",
       "335   Kevin De Bruyne    Manchester-City       67    8407                 97.0\n",
       "13         Mesut Özil            Arsenal       54   11186                 65.0\n",
       "365         Juan Mata  Manchester-United       52   11379                 68.0\n",
       "304  Jordan Henderson          Liverpool       46   17932                 49.0"
      ]
     },
     "metadata": {},
     "output_type": "display_data"
    },
    {
     "name": "stdout",
     "output_type": "stream",
     "text": [
      "\n",
      "\n",
      "Leeds-United should consider recruiting the following midfielders:\n"
     ]
    },
    {
     "data": {
      "text/html": [
       "<div>\n",
       "<style scoped>\n",
       "    .dataframe tbody tr th:only-of-type {\n",
       "        vertical-align: middle;\n",
       "    }\n",
       "\n",
       "    .dataframe tbody tr th {\n",
       "        vertical-align: top;\n",
       "    }\n",
       "\n",
       "    .dataframe thead th {\n",
       "        text-align: right;\n",
       "    }\n",
       "</style>\n",
       "<table border=\"1\" class=\"dataframe\">\n",
       "  <thead>\n",
       "    <tr style=\"text-align: right;\">\n",
       "      <th></th>\n",
       "      <th>Name</th>\n",
       "      <th>Club</th>\n",
       "      <th>Assists</th>\n",
       "      <th>Passes</th>\n",
       "      <th>Big chances created</th>\n",
       "    </tr>\n",
       "  </thead>\n",
       "  <tbody>\n",
       "    <tr>\n",
       "      <th>302</th>\n",
       "      <td>James Milner</td>\n",
       "      <td>Liverpool</td>\n",
       "      <td>84</td>\n",
       "      <td>16171</td>\n",
       "      <td>46.0</td>\n",
       "    </tr>\n",
       "    <tr>\n",
       "      <th>335</th>\n",
       "      <td>Kevin De Bruyne</td>\n",
       "      <td>Manchester-City</td>\n",
       "      <td>67</td>\n",
       "      <td>8407</td>\n",
       "      <td>97.0</td>\n",
       "    </tr>\n",
       "    <tr>\n",
       "      <th>13</th>\n",
       "      <td>Mesut Özil</td>\n",
       "      <td>Arsenal</td>\n",
       "      <td>54</td>\n",
       "      <td>11186</td>\n",
       "      <td>65.0</td>\n",
       "    </tr>\n",
       "    <tr>\n",
       "      <th>365</th>\n",
       "      <td>Juan Mata</td>\n",
       "      <td>Manchester-United</td>\n",
       "      <td>52</td>\n",
       "      <td>11379</td>\n",
       "      <td>68.0</td>\n",
       "    </tr>\n",
       "    <tr>\n",
       "      <th>304</th>\n",
       "      <td>Jordan Henderson</td>\n",
       "      <td>Liverpool</td>\n",
       "      <td>46</td>\n",
       "      <td>17932</td>\n",
       "      <td>49.0</td>\n",
       "    </tr>\n",
       "  </tbody>\n",
       "</table>\n",
       "</div>"
      ],
      "text/plain": [
       "                 Name               Club  Assists  Passes  Big chances created\n",
       "302      James Milner          Liverpool       84   16171                 46.0\n",
       "335   Kevin De Bruyne    Manchester-City       67    8407                 97.0\n",
       "13         Mesut Özil            Arsenal       54   11186                 65.0\n",
       "365         Juan Mata  Manchester-United       52   11379                 68.0\n",
       "304  Jordan Henderson          Liverpool       46   17932                 49.0"
      ]
     },
     "metadata": {},
     "output_type": "display_data"
    },
    {
     "name": "stdout",
     "output_type": "stream",
     "text": [
      "\n",
      "\n"
     ]
    }
   ],
   "source": [
    "print(\"Midfield Recruitment Recommendations:\\n\")\n",
    "for team, players in midfield_recommendations.items():\n",
    "    print(f\"{team} should consider recruiting the following midfielders:\")\n",
    "    display(players)\n",
    "    print(\"\\n\")"
   ]
  },
  {
   "cell_type": "code",
   "execution_count": 143,
   "id": "27a79015-eeac-43d1-940c-f5a55beb53eb",
   "metadata": {},
   "outputs": [],
   "source": [
    "from pyspark.sql.functions import desc\n",
    "\n",
    "younger_players = df.filter(df.Age < 22)\n",
    "\n",
    "top_young_attacker = younger_players.filter(df.Position == 'Forward').orderBy(\n",
    "    desc(\"Goals\"), \n",
    "    desc(\"Goals per match\"), \n",
    "    desc(\"Shooting accuracy %\"), \n",
    "    desc(\"Shots\"), \n",
    "    desc(\"Shots on target\")\n",
    ").first()\n",
    "\n",
    "top_young_defender = younger_players.filter(df.Position == 'Defender').orderBy(\n",
    "    desc(\"Clean sheets\"), \n",
    "    desc(\"Tackles\"), \n",
    "    desc(\"Tackle success %\"), \n",
    "    desc(\"Last man tackles\"), \n",
    "    desc(\"Blocked shots\"), \n",
    "    desc(\"Clearances\"), \n",
    "    desc(\"Headed Clearance\"), \n",
    "    desc(\"Clearances off line\")\n",
    ").first()\n",
    "\n",
    "top_young_midfielder = younger_players.filter(df.Position == 'Midfielder').orderBy(\n",
    "    desc(\"Assists\"), \n",
    "    desc(\"Passes\"), \n",
    "    desc(\"Passes per match\"), \n",
    "    desc(\"Big chances created\")\n",
    ").first()\n"
   ]
  },
  {
   "cell_type": "code",
   "execution_count": 144,
   "id": "77012270-0513-42b0-9a19-6a94e556fc0a",
   "metadata": {},
   "outputs": [
    {
     "name": "stdout",
     "output_type": "stream",
     "text": [
      "Top Young Attacker (Under 20):\n",
      "Name: Mason Greenwood, Club: Manchester-United, Goals: 10\n",
      "\n",
      "Top Young Defender (Under 20):\n",
      "Name: Trent Alexander-Arnold, Club: Liverpool, Clean Sheets: 31\n",
      "\n",
      "Top Young Midfielder (Under 20):\n",
      "Name: Dwight McNeil, Club: Burnley, Assists: 12\n"
     ]
    }
   ],
   "source": [
    "if top_young_attacker:\n",
    "    print(\"Top Young Attacker (Under 20):\")\n",
    "    print(f\"Name: {top_young_attacker['Name']}, Club: {top_young_attacker['Club']}, Goals: {top_young_attacker['Goals']}\")\n",
    "else:\n",
    "    print(\"No top young attacker found under age 20.\")\n",
    "\n",
    "\n",
    "if top_young_defender:\n",
    "    print(\"\\nTop Young Defender (Under 20):\")\n",
    "    print(f\"Name: {top_young_defender['Name']}, Club: {top_young_defender['Club']}, Clean Sheets: {top_young_defender['Clean sheets']}\")\n",
    "else:\n",
    "    print(\"No top young defender found under age 20.\")\n",
    "\n",
    "if top_young_midfielder:\n",
    "    print(\"\\nTop Young Midfielder (Under 20):\")\n",
    "    print(f\"Name: {top_young_midfielder['Name']}, Club: {top_young_midfielder['Club']}, Assists: {top_young_midfielder['Assists']}\")\n",
    "else:\n",
    "    print(\"No top young midfielder found under age 20.\")\n"
   ]
  },
  {
   "cell_type": "code",
   "execution_count": 141,
   "id": "a806fbfb-0724-4414-8a14-96cf3a03d9a9",
   "metadata": {},
   "outputs": [],
   "source": [
    "\n",
    "prime_age_players = df.filter((df.Age >= 20) & (df.Age <= 33))\n",
    "\n",
    "top_attacker = prime_age_players.filter(df.Position == 'Forward').orderBy(\n",
    "    desc(\"Goals\"),\n",
    "    desc(\"Goals per match\"),\n",
    "    desc(\"Shooting accuracy %\"),\n",
    "    desc(\"Shots\"),\n",
    "    desc(\"Shots on target\")\n",
    ").first()\n",
    "\n",
    "\n",
    "top_defender = prime_age_players.filter(df.Position == 'Defender').orderBy(\n",
    "    desc(\"Clean sheets\"),\n",
    "    desc(\"Tackles\"),\n",
    "    desc(\"Tackle success %\"),\n",
    "    desc(\"Last man tackles\"),\n",
    "    desc(\"Blocked shots\"),\n",
    "    desc(\"Clearances\"),\n",
    "    desc(\"Headed Clearance\"),\n",
    "    desc(\"Clearances off line\")\n",
    ").first()\n",
    "\n",
    "top_midfielder = prime_age_players.filter(df.Position == 'Midfielder').orderBy(\n",
    "    desc(\"Assists\"),\n",
    "    desc(\"Passes\"),\n",
    "    desc(\"Passes per match\"),\n",
    "    desc(\"Big chances created\")\n",
    ").first()\n",
    "\n"
   ]
  },
  {
   "cell_type": "code",
   "execution_count": 142,
   "id": "e8cc8e2c-2aba-4664-8137-f89cd875583e",
   "metadata": {},
   "outputs": [
    {
     "name": "stdout",
     "output_type": "stream",
     "text": [
      "Top Attacker (Age 20-33):\n",
      "Name: Sergio Agüero, Club: Manchester-City, Goals: 180\n",
      "\n",
      "Top Defender (Age 20-33):\n",
      "Name: Kyle Walker, Club: Manchester-City, Clean Sheets: 99\n",
      "\n",
      "Top Midfielder (Age 20-33):\n",
      "Name: Kevin De Bruyne, Club: Manchester-City, Assists: 67\n"
     ]
    }
   ],
   "source": [
    "# Check and print details for the top attacker\n",
    "if top_attacker:\n",
    "    print(\"Top Attacker (Age 20-33):\")\n",
    "    print(f\"Name: {top_attacker['Name']}, Club: {top_attacker['Club']}, Goals: {top_attacker['Goals']}\")\n",
    "else:\n",
    "    print(\"No top attacker found in the age range 20-33.\")\n",
    "\n",
    "# Check and print details for the top defender\n",
    "if top_defender:\n",
    "    print(\"\\nTop Defender (Age 20-33):\")\n",
    "    print(f\"Name: {top_defender['Name']}, Club: {top_defender['Club']}, Clean Sheets: {top_defender['Clean sheets']}\")\n",
    "else:\n",
    "    print(\"No top defender found in the age range 20-33.\")\n",
    "\n",
    "# Check and print details for the top midfielder\n",
    "if top_midfielder:\n",
    "    print(\"\\nTop Midfielder (Age 20-33):\")\n",
    "    print(f\"Name: {top_midfielder['Name']}, Club: {top_midfielder['Club']}, Assists: {top_midfielder['Assists']}\")\n",
    "else:\n",
    "    print(\"No top midfielder found in the age range 20-33.\")\n"
   ]
  },
  {
   "cell_type": "code",
   "execution_count": null,
   "id": "46786e78-72c8-424b-87b6-77e80b9afcab",
   "metadata": {},
   "outputs": [],
   "source": []
  }
 ],
 "metadata": {
  "kernelspec": {
   "display_name": "Python 3 (ipykernel)",
   "language": "python",
   "name": "python3"
  },
  "language_info": {
   "codemirror_mode": {
    "name": "ipython",
    "version": 3
   },
   "file_extension": ".py",
   "mimetype": "text/x-python",
   "name": "python",
   "nbconvert_exporter": "python",
   "pygments_lexer": "ipython3",
   "version": "3.12.1"
  }
 },
 "nbformat": 4,
 "nbformat_minor": 5
}
